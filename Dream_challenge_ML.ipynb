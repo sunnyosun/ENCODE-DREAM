{
 "cells": [
  {
   "cell_type": "markdown",
   "metadata": {},
   "source": [
    "# To predict in vivo TF binding\n",
    "\n",
    "\n",
    "Features extracted from:\n",
    "1. Motif scanning\n",
    "2. MNase-seq\n",
    "3. RNA-seq\n",
    "4. Gene annotation\n",
    "\n",
    "\n",
    "Cell lines:\n",
    "1. A-549\n",
    "2. MCF-7\n",
    "3. HepG2\n",
    "4. K562\n",
    "5. HeLa-S3\n",
    "\n",
    "\n",
    "Held out chrs (did not have the label file):\n",
    "1. chr1\n",
    "2. chr8\n",
    "3. chr20\n",
    "\n",
    "New held out chrs: chr12\n",
    "\n"
   ]
  },
  {
   "cell_type": "markdown",
   "metadata": {},
   "source": [
    "# calculating motif scores for the flanking or target range(11, 17)regions\n",
    "\n",
    "1. create a directory\n",
    "2. include the following files in the directory: motif.bash, motif_match.py, motif_match_run.py, motifShell.bash\n",
    "3. change the 3rd parameter in the motifShell.bash file\n",
    "4. bash motifShell.bash\n"
   ]
  },
  {
   "cell_type": "code",
   "execution_count": 156,
   "metadata": {},
   "outputs": [],
   "source": [
    "# Modules\n",
    "\n",
    "# import regular expression module\n",
    "import re\n",
    "\n",
    "# import sys module\n",
    "import sys\n",
    "\n",
    "from Bio import SeqIO\n",
    "from Bio.Seq import Seq\n",
    "from Bio.Alphabet import generic_dna\n",
    "import pandas as pd\n",
    "import math\n",
    "\n",
    "import matplotlib.pyplot as plt\n",
    "\n",
    "# machine learning\n",
    "from sklearn import preprocessing\n",
    "from sklearn.linear_model import LogisticRegression\n",
    "from sklearn.svm import SVC, LinearSVC\n",
    "from sklearn.ensemble import RandomForestClassifier\n",
    "from sklearn.neighbors import KNeighborsClassifier\n",
    "from sklearn.naive_bayes import GaussianNB\n",
    "from sklearn.linear_model import Perceptron\n",
    "from sklearn.linear_model import SGDClassifier\n",
    "from sklearn.tree import DecisionTreeClassifier\n",
    "from sklearn.preprocessing import StandardScaler\n",
    "from sklearn.neural_network import MLPClassifier\n",
    "from sklearn.metrics import classification_report,confusion_matrix\n",
    "from sklearn import metrics\n",
    "from sklearn.metrics import roc_auc_score\n",
    "from sklearn.metrics import average_precision_score, accuracy_score\n",
    "from sklearn.metrics import precision_recall_curve\n",
    "from sklearn.metrics import roc_curve, auc, roc_auc_score\n",
    "import numpy as np\n",
    "from sklearn.cross_validation import cross_val_score, cross_val_predict\n",
    "from xgboost import XGBClassifier\n",
    "from sklearn.feature_selection import SelectFdr"
   ]
  },
  {
   "cell_type": "code",
   "execution_count": 6,
   "metadata": {},
   "outputs": [],
   "source": [
    "# in data/tss_bed folder\n",
    "# add new features to *_closest_tss_train_regions.blacklistfiltered_xxx.txt\n",
    "\n",
    "\n",
    "# merge sdOVerMean.tsv to *_closest_tss_train_regions.blacklistfiltered_xxx.txt\n",
    "tss_filename='/Users/sunnysun/Desktop/dream_test/new_features/HeLa-S3_closest_tss_train_regions.blacklistfiltered_000.txt'\n",
    "new_filename='/Users/sunnysun/Desktop/dream_test/new_features/sdOVerMean.tsv'\n",
    "\n",
    "tss=pd.read_csv(tss_filename,sep='\\t',header=None)\n",
    "new=pd.read_csv(new_filename,sep='\\t',header=0)\n"
   ]
  },
  {
   "cell_type": "code",
   "execution_count": 9,
   "metadata": {},
   "outputs": [],
   "source": [
    "tss_new=pd.merge(tss,new,left_on=6,right_on='gene_id',how='left')"
   ]
  },
  {
   "cell_type": "code",
   "execution_count": 18,
   "metadata": {},
   "outputs": [],
   "source": [
    "tss_out=tss_new.drop(tss_new.columns[[3,4,5,6,7]],1)"
   ]
  },
  {
   "cell_type": "code",
   "execution_count": 19,
   "metadata": {},
   "outputs": [],
   "source": [
    "tss_out=tss_out.drop('gene_id',1)"
   ]
  },
  {
   "cell_type": "code",
   "execution_count": 21,
   "metadata": {},
   "outputs": [],
   "source": [
    "tss_out.columns=['chr','start','end','gene_expression','distance_to_tss','exp_sd','exp_mean','exp_sdOverMean']"
   ]
  },
  {
   "cell_type": "markdown",
   "metadata": {},
   "source": [
    "# create train and test datasets from balanced file"
   ]
  },
  {
   "cell_type": "code",
   "execution_count": 117,
   "metadata": {},
   "outputs": [],
   "source": [
    "data=pd.read_csv('/Users/sunnysun/Desktop/dream_test/combine/1to10/feature_K562_balanced_1to10_rmna.txt',sep='\\t',header=None)\n",
    "col=pd.read_csv('/Users/sunnysun/Desktop/dream_test/new_combined_features_000.txt',sep='\\t',header=0)\n",
    "train = data.sample(frac=0.9)\n",
    "train.columns=col.columns\n",
    "test = data.loc[~data.index.isin(train.index)]\n",
    "test.columns=col.columns\n",
    "train.to_csv('/Users/sunnysun/Desktop/dream_test/combine/1to10/feature_K562_balanced_1to10_train.txt',index=False,header=True,sep='\\t')\n",
    "test.to_csv('/Users/sunnysun/Desktop/dream_test/combine/1to10/feature_K562_balanced_1to10_test.txt',index=False,header=True,sep='\\t')"
   ]
  },
  {
   "cell_type": "code",
   "execution_count": 21,
   "metadata": {},
   "outputs": [
    {
     "name": "stderr",
     "output_type": "stream",
     "text": [
      "/Library/Frameworks/Python.framework/Versions/3.6/lib/python3.6/site-packages/IPython/core/interactiveshell.py:2785: DtypeWarning: Columns (21,22,23,24,25,26,27,28,29,30,31,32,33) have mixed types. Specify dtype option on import or set low_memory=False.\n",
      "  interactivity=interactivity, compiler=compiler, result=result)\n"
     ]
    }
   ],
   "source": [
    "data=pd.read_csv('/Users/sunnysun/Desktop/dream_test/feature_MCF-7_balanced.txt',sep='\\t',header=None)\n",
    "col=pd.read_csv('/Users/sunnysun/Desktop/dream_test/new_combined_features_000.txt',sep='\\t',header=0)\n",
    "train = data.sample(frac=0.9)\n",
    "train.columns=col.columns\n",
    "test = data.loc[~data.index.isin(train.index)]\n",
    "test.columns=col.columns\n",
    "train.to_csv('/Users/sunnysun/Desktop/dream_test/combine/feature_MCF-7_balanced_train.txt',index=False,header=True,sep='\\t')\n",
    "test.to_csv('/Users/sunnysun/Desktop/dream_test/combine/feature_MCF-7_balanced_test.txt',index=False,header=True,sep='\\t')"
   ]
  },
  {
   "cell_type": "code",
   "execution_count": 22,
   "metadata": {},
   "outputs": [
    {
     "name": "stderr",
     "output_type": "stream",
     "text": [
      "/Library/Frameworks/Python.framework/Versions/3.6/lib/python3.6/site-packages/IPython/core/interactiveshell.py:2785: DtypeWarning: Columns (21,22,23,24,25,26,27,28,29,30,31,32,33) have mixed types. Specify dtype option on import or set low_memory=False.\n",
      "  interactivity=interactivity, compiler=compiler, result=result)\n"
     ]
    }
   ],
   "source": [
    "data=pd.read_csv('/Users/sunnysun/Desktop/dream_test/feature_HeLa-S3_balanced.txt',sep='\\t',header=None)\n",
    "col=pd.read_csv('/Users/sunnysun/Desktop/dream_test/new_combined_features_000.txt',sep='\\t',header=0)\n",
    "train = data.sample(frac=0.9)\n",
    "train.columns=col.columns\n",
    "test = data.loc[~data.index.isin(train.index)]\n",
    "test.columns=col.columns\n",
    "train.to_csv('/Users/sunnysun/Desktop/dream_test/combine/feature_HeLa-S3_balanced_train.txt',index=False,header=True,sep='\\t')\n",
    "test.to_csv('/Users/sunnysun/Desktop/dream_test/combine/feature_HeLa-S3_balanced_test.txt',index=False,header=True,sep='\\t')"
   ]
  },
  {
   "cell_type": "code",
   "execution_count": 23,
   "metadata": {},
   "outputs": [
    {
     "name": "stderr",
     "output_type": "stream",
     "text": [
      "/Library/Frameworks/Python.framework/Versions/3.6/lib/python3.6/site-packages/IPython/core/interactiveshell.py:2785: DtypeWarning: Columns (21,22,23,24,25,26,27,28,29,30,31,32,33) have mixed types. Specify dtype option on import or set low_memory=False.\n",
      "  interactivity=interactivity, compiler=compiler, result=result)\n"
     ]
    }
   ],
   "source": [
    "data=pd.read_csv('/Users/sunnysun/Desktop/dream_test/feature_K562_balanced.txt',sep='\\t',header=None)\n",
    "col=pd.read_csv('/Users/sunnysun/Desktop/dream_test/new_combined_features_000.txt',sep='\\t',header=0)\n",
    "train = data.sample(frac=0.9)\n",
    "train.columns=col.columns\n",
    "test = data.loc[~data.index.isin(train.index)]\n",
    "test.columns=col.columns\n",
    "train.to_csv('/Users/sunnysun/Desktop/dream_test/combine/feature_K562_balanced_train.txt',index=False,header=True,sep='\\t')\n",
    "test.to_csv('/Users/sunnysun/Desktop/dream_test/combine/feature_K562_balanced_test.txt',index=False,header=True,sep='\\t')"
   ]
  },
  {
   "cell_type": "markdown",
   "metadata": {},
   "source": [
    "# applying machine learning methods"
   ]
  },
  {
   "cell_type": "code",
   "execution_count": 463,
   "metadata": {},
   "outputs": [],
   "source": [
    "# read in the data\n",
    "train=pd.read_csv('/Users/sunnysun/Desktop/dream_test/combine/1to10/feature_A549_balanced_1to10_train_rmchr12.txt',sep='\\t',header=0)\n",
    "#test=pd.read_csv('/Users/sunnysun/Desktop/dream_test/combine/1to10/feature_A549_balanced_1to10_test.txt',sep='\\t',header=0)\n",
    "test=pd.read_csv('/Users/sunnysun/Desktop/dream_test/combine/new_combined_features_070_noA_rmna.txt',sep='\\t',header=0)\n",
    "cellline='A549'\n",
    "train=train.drop(\"chr\",axis=1)\n",
    "train=train.drop(\"start\",axis=1)\n",
    "train=train.drop(\"end\",axis=1)\n",
    "col=pd.read_csv('/Users/sunnysun/Desktop/dream_test/new_combined_features_000.txt',sep='\\t',header=0)\n",
    "test.columns=col.columns\n",
    "test=test.drop(\"chr\",axis=1)\n",
    "test=test.drop(\"start\",axis=1)\n",
    "test=test.drop(\"end\",axis=1)\n",
    "test=test.loc[test[cellline]!='A',:]"
   ]
  },
  {
   "cell_type": "code",
   "execution_count": 464,
   "metadata": {
    "scrolled": true
   },
   "outputs": [
    {
     "data": {
      "text/plain": [
       "((901442, 32), (98533, 32))"
      ]
     },
     "execution_count": 464,
     "metadata": {},
     "output_type": "execute_result"
    }
   ],
   "source": [
    "train.shape,test.shape"
   ]
  },
  {
   "cell_type": "code",
   "execution_count": 449,
   "metadata": {},
   "outputs": [],
   "source": [
    "# convert the categorical data to numeric\n",
    "#number = preprocessing.LabelEncoder()\n",
    "#train[cellline] = number.fit_transform(train[cellline])\n",
    "#test[cellline] = number.fit_transform(test[cellline])"
   ]
  },
  {
   "cell_type": "code",
   "execution_count": 465,
   "metadata": {
    "scrolled": true
   },
   "outputs": [],
   "source": [
    "s = pd.Series(train[cellline])\n",
    "s=s.replace({'B': 1})\n",
    "s=s.replace({'U': 0})\n",
    "train[cellline]=s\n",
    "\n",
    "s = pd.Series(test[cellline])\n",
    "s=s.replace({'B': 1})\n",
    "s=s.replace({'U': 0})\n",
    "test[cellline]=s"
   ]
  },
  {
   "cell_type": "code",
   "execution_count": 49,
   "metadata": {},
   "outputs": [],
   "source": [
    "# removing NaN\n",
    "#train=train.dropna()\n",
    "#test=train.dropna()\n",
    "#train.to_csv('/Users/sunnysun/Desktop/dream_test/combine/train.txt',index=False,header=True,sep='\\t')"
   ]
  },
  {
   "cell_type": "code",
   "execution_count": 459,
   "metadata": {},
   "outputs": [],
   "source": [
    "# creating train and test datasets\n",
    "#train = test.sample(frac=0.8)\n",
    "#test = test.loc[~test.index.isin(train.index)]\n",
    "# train_df.shape,test_df.shape,alldata.shape"
   ]
  },
  {
   "cell_type": "code",
   "execution_count": 466,
   "metadata": {},
   "outputs": [
    {
     "data": {
      "text/plain": [
       "((901442, 31), (901442,), (98533, 31), (98533,))"
      ]
     },
     "execution_count": 466,
     "metadata": {},
     "output_type": "execute_result"
    }
   ],
   "source": [
    "X_train = train.drop(cellline, axis=1)\n",
    "Y_train = train[cellline]\n",
    "X_test  = test.drop(cellline, axis=1)\n",
    "Y_test = test[cellline]\n",
    "X_train.shape, Y_train.shape, X_test.shape, Y_test.shape"
   ]
  },
  {
   "cell_type": "code",
   "execution_count": 467,
   "metadata": {
    "scrolled": true
   },
   "outputs": [
    {
     "data": {
      "text/html": [
       "<div>\n",
       "<style scoped>\n",
       "    .dataframe tbody tr th:only-of-type {\n",
       "        vertical-align: middle;\n",
       "    }\n",
       "\n",
       "    .dataframe tbody tr th {\n",
       "        vertical-align: top;\n",
       "    }\n",
       "\n",
       "    .dataframe thead th {\n",
       "        text-align: right;\n",
       "    }\n",
       "</style>\n",
       "<table border=\"1\" class=\"dataframe\">\n",
       "  <thead>\n",
       "    <tr style=\"text-align: right;\">\n",
       "      <th></th>\n",
       "      <th>motif_-600</th>\n",
       "      <th>motif_-500</th>\n",
       "      <th>motif_-400</th>\n",
       "      <th>motif_-300</th>\n",
       "      <th>motif_-200</th>\n",
       "      <th>motif_-100</th>\n",
       "      <th>motif_0</th>\n",
       "      <th>motif_100</th>\n",
       "      <th>motif_200</th>\n",
       "      <th>motif_300</th>\n",
       "      <th>...</th>\n",
       "      <th>minus300_minus100</th>\n",
       "      <th>minus200_0</th>\n",
       "      <th>minus100_targetmid</th>\n",
       "      <th>target_region</th>\n",
       "      <th>targetmid_100</th>\n",
       "      <th>plus0_200</th>\n",
       "      <th>plus100_300</th>\n",
       "      <th>plus200_400</th>\n",
       "      <th>plus300_500</th>\n",
       "      <th>plus400_600</th>\n",
       "    </tr>\n",
       "  </thead>\n",
       "  <tbody>\n",
       "    <tr>\n",
       "      <th>0</th>\n",
       "      <td>0.673231</td>\n",
       "      <td>0.673231</td>\n",
       "      <td>0.672335</td>\n",
       "      <td>0.771851</td>\n",
       "      <td>0.771851</td>\n",
       "      <td>0.714365</td>\n",
       "      <td>0.714365</td>\n",
       "      <td>0.741933</td>\n",
       "      <td>0.741933</td>\n",
       "      <td>0.687548</td>\n",
       "      <td>...</td>\n",
       "      <td>2.461996</td>\n",
       "      <td>0.805780</td>\n",
       "      <td>0.815338</td>\n",
       "      <td>0.657540</td>\n",
       "      <td>0.897928</td>\n",
       "      <td>0.942253</td>\n",
       "      <td>0.816286</td>\n",
       "      <td>0.824822</td>\n",
       "      <td>3.527567</td>\n",
       "      <td>10.736500</td>\n",
       "    </tr>\n",
       "    <tr>\n",
       "      <th>1</th>\n",
       "      <td>0.726841</td>\n",
       "      <td>0.726841</td>\n",
       "      <td>0.731395</td>\n",
       "      <td>0.731395</td>\n",
       "      <td>0.796827</td>\n",
       "      <td>0.796827</td>\n",
       "      <td>0.800048</td>\n",
       "      <td>0.800048</td>\n",
       "      <td>0.715867</td>\n",
       "      <td>0.728997</td>\n",
       "      <td>...</td>\n",
       "      <td>0.506650</td>\n",
       "      <td>1.002041</td>\n",
       "      <td>1.466003</td>\n",
       "      <td>1.637804</td>\n",
       "      <td>0.798053</td>\n",
       "      <td>0.205408</td>\n",
       "      <td>0.075755</td>\n",
       "      <td>0.109522</td>\n",
       "      <td>0.405664</td>\n",
       "      <td>0.525290</td>\n",
       "    </tr>\n",
       "    <tr>\n",
       "      <th>2</th>\n",
       "      <td>0.827447</td>\n",
       "      <td>0.731589</td>\n",
       "      <td>0.797917</td>\n",
       "      <td>0.672384</td>\n",
       "      <td>0.686071</td>\n",
       "      <td>0.780523</td>\n",
       "      <td>0.780523</td>\n",
       "      <td>0.744768</td>\n",
       "      <td>0.720954</td>\n",
       "      <td>0.720954</td>\n",
       "      <td>...</td>\n",
       "      <td>0.932707</td>\n",
       "      <td>1.007249</td>\n",
       "      <td>1.221196</td>\n",
       "      <td>1.253088</td>\n",
       "      <td>1.111324</td>\n",
       "      <td>1.002081</td>\n",
       "      <td>1.240439</td>\n",
       "      <td>1.473601</td>\n",
       "      <td>1.557316</td>\n",
       "      <td>1.590334</td>\n",
       "    </tr>\n",
       "    <tr>\n",
       "      <th>3</th>\n",
       "      <td>0.650073</td>\n",
       "      <td>0.644549</td>\n",
       "      <td>0.670543</td>\n",
       "      <td>0.740625</td>\n",
       "      <td>0.818556</td>\n",
       "      <td>0.818556</td>\n",
       "      <td>0.747626</td>\n",
       "      <td>0.747626</td>\n",
       "      <td>0.728924</td>\n",
       "      <td>0.717829</td>\n",
       "      <td>...</td>\n",
       "      <td>0.268178</td>\n",
       "      <td>0.000000</td>\n",
       "      <td>0.000000</td>\n",
       "      <td>0.000000</td>\n",
       "      <td>0.000000</td>\n",
       "      <td>0.000000</td>\n",
       "      <td>0.302375</td>\n",
       "      <td>0.809932</td>\n",
       "      <td>0.507558</td>\n",
       "      <td>0.088193</td>\n",
       "    </tr>\n",
       "    <tr>\n",
       "      <th>4</th>\n",
       "      <td>0.685029</td>\n",
       "      <td>0.685029</td>\n",
       "      <td>0.668944</td>\n",
       "      <td>0.668944</td>\n",
       "      <td>0.673256</td>\n",
       "      <td>0.678973</td>\n",
       "      <td>0.725824</td>\n",
       "      <td>0.725824</td>\n",
       "      <td>0.663808</td>\n",
       "      <td>0.755208</td>\n",
       "      <td>...</td>\n",
       "      <td>0.406766</td>\n",
       "      <td>0.237580</td>\n",
       "      <td>0.413966</td>\n",
       "      <td>0.539955</td>\n",
       "      <td>0.309574</td>\n",
       "      <td>0.269977</td>\n",
       "      <td>0.332972</td>\n",
       "      <td>1.175306</td>\n",
       "      <td>1.430886</td>\n",
       "      <td>0.444564</td>\n",
       "    </tr>\n",
       "  </tbody>\n",
       "</table>\n",
       "<p>5 rows × 31 columns</p>\n",
       "</div>"
      ],
      "text/plain": [
       "   motif_-600  motif_-500  motif_-400  motif_-300  motif_-200  motif_-100  \\\n",
       "0    0.673231    0.673231    0.672335    0.771851    0.771851    0.714365   \n",
       "1    0.726841    0.726841    0.731395    0.731395    0.796827    0.796827   \n",
       "2    0.827447    0.731589    0.797917    0.672384    0.686071    0.780523   \n",
       "3    0.650073    0.644549    0.670543    0.740625    0.818556    0.818556   \n",
       "4    0.685029    0.685029    0.668944    0.668944    0.673256    0.678973   \n",
       "\n",
       "    motif_0  motif_100  motif_200  motif_300     ...       minus300_minus100  \\\n",
       "0  0.714365   0.741933   0.741933   0.687548     ...                2.461996   \n",
       "1  0.800048   0.800048   0.715867   0.728997     ...                0.506650   \n",
       "2  0.780523   0.744768   0.720954   0.720954     ...                0.932707   \n",
       "3  0.747626   0.747626   0.728924   0.717829     ...                0.268178   \n",
       "4  0.725824   0.725824   0.663808   0.755208     ...                0.406766   \n",
       "\n",
       "   minus200_0  minus100_targetmid  target_region  targetmid_100  plus0_200  \\\n",
       "0    0.805780            0.815338       0.657540       0.897928   0.942253   \n",
       "1    1.002041            1.466003       1.637804       0.798053   0.205408   \n",
       "2    1.007249            1.221196       1.253088       1.111324   1.002081   \n",
       "3    0.000000            0.000000       0.000000       0.000000   0.000000   \n",
       "4    0.237580            0.413966       0.539955       0.309574   0.269977   \n",
       "\n",
       "   plus100_300  plus200_400  plus300_500  plus400_600  \n",
       "0     0.816286     0.824822     3.527567    10.736500  \n",
       "1     0.075755     0.109522     0.405664     0.525290  \n",
       "2     1.240439     1.473601     1.557316     1.590334  \n",
       "3     0.302375     0.809932     0.507558     0.088193  \n",
       "4     0.332972     1.175306     1.430886     0.444564  \n",
       "\n",
       "[5 rows x 31 columns]"
      ]
     },
     "execution_count": 467,
     "metadata": {},
     "output_type": "execute_result"
    }
   ],
   "source": [
    "X_train.head()"
   ]
  },
  {
   "cell_type": "code",
   "execution_count": 468,
   "metadata": {
    "scrolled": true
   },
   "outputs": [
    {
     "name": "stdout",
     "output_type": "stream",
     "text": [
      "AUC: 0.9113\n",
      "PRC: 0.4538\n"
     ]
    }
   ],
   "source": [
    "# Logistic Regression\n",
    "logreg = LogisticRegression()\n",
    "logreg.fit(X_train, Y_train)\n",
    "Y_pred = logreg.predict_proba(X_test)\n",
    "acc_log='{:.2f}'.format(logreg.score(X_test, Y_test))\n",
    "# print('Accuracy of logistic regression classifier on test set: {:.2f}'.format(logreg.score(X_test, Y_test)))\n",
    "# calculating auc\n",
    "print ('AUC: {:.4f}'.format(roc_auc_score(Y_test, Y_pred[:,1])))\n",
    "auc_log='{:.4f}'.format(roc_auc_score(Y_test, Y_pred[:,1]))\n",
    "precision, recall, thresholds = precision_recall_curve(Y_test,Y_pred[:,1])\n",
    "area = auc(recall,precision,reorder=True)\n",
    "print ('PRC: {:.4f}'.format(area))\n",
    "prc_log='{:.4f}'.format(area)"
   ]
  },
  {
   "cell_type": "code",
   "execution_count": 471,
   "metadata": {
    "scrolled": false
   },
   "outputs": [
    {
     "data": {
      "image/png": "[encoded data removed]",
      "text/plain": [
       "<Figure size 432x288 with 1 Axes>"
      ]
     },
     "metadata": {},
     "output_type": "display_data"
    }
   ],
   "source": [
    "fpr, tpr, threshold = roc_curve(Y_test, Y_pred[:,1])\n",
    "log_roc_auc = auc(fpr, tpr)\n",
    "\n",
    "plt.title('Logistic Regression ROC curve')\n",
    "plt.plot(fpr, tpr, 'b', label = 'AUC = %0.4f' % roc_auc)\n",
    "plt.legend(loc = 'lower right')\n",
    "plt.plot([0, 1], [0, 1],'r--')\n",
    "plt.xlim([0, 1])\n",
    "plt.ylim([0, 1])\n",
    "plt.ylabel('True Positive Rate')\n",
    "plt.xlabel('False Positive Rate')\n",
    "plt.show()"
   ]
  },
  {
   "cell_type": "code",
   "execution_count": 472,
   "metadata": {
    "scrolled": true
   },
   "outputs": [
    {
     "data": {
      "image/png": "[encoded data removed]",
      "text/plain": [
       "<Figure size 432x288 with 1 Axes>"
      ]
     },
     "metadata": {},
     "output_type": "display_data"
    }
   ],
   "source": [
    "# plot ROC curve\n",
    "plt.figure()\n",
    "plt.title('Logistic Regression ROC curve')\n",
    "plt.plot(fpr, tpr, 'b', label = 'AUC = %0.4f' % roc_auc)\n",
    "plt.legend(loc = 'lower right')\n",
    "plt.plot([0, 1], [0, 1],'r--')\n",
    "plt.xlim([0, 1])\n",
    "plt.ylim([0, 1])\n",
    "plt.ylabel('True Positive Rate')\n",
    "plt.xlabel('False Positive Rate')\n",
    "f = open(cellline+'_log_roc.png', 'wb')\n",
    "plt.savefig(cellline+'_log_roc.png')\n",
    "f.close()"
   ]
  },
  {
   "cell_type": "code",
   "execution_count": 473,
   "metadata": {
    "scrolled": false
   },
   "outputs": [
    {
     "data": {
      "image/png": "[encoded data removed]",
      "text/plain": [
       "<Figure size 432x288 with 1 Axes>"
      ]
     },
     "metadata": {},
     "output_type": "display_data"
    }
   ],
   "source": [
    "# Plot Precision-Recall curve\n",
    "plt.clf()\n",
    "plt.plot(recall, precision, label='Precision-Recall curve')\n",
    "plt.xlabel('Recall')\n",
    "plt.ylabel('Precision')\n",
    "plt.ylim([0.0, 1.05])\n",
    "plt.xlim([0.0, 1.0])\n",
    "plt.title('Logistic Regression PRC={0:0.4f}'.format(area))\n",
    "plt.legend(loc=\"lower left\")\n",
    "plt.show()"
   ]
  },
  {
   "cell_type": "code",
   "execution_count": 212,
   "metadata": {},
   "outputs": [],
   "source": [
    "def recall_at_fdr(y_true, y_pred, fdr_cutoff1=0.05, fdr_cutoff2=0.1, fdr_cutoff3=0.25,fdr_cutoff4=0.5):\n",
    "    precision, recall, thresholds = precision_recall_curve(y_true, y_pred)\n",
    "    fdr = 1- precision\n",
    "    cutoff_index1 = next(i for i, x in enumerate(fdr) if x <= fdr_cutoff1)\n",
    "    cutoff_index2 = next(i for i, x in enumerate(fdr) if x <= fdr_cutoff2)\n",
    "    cutoff_index3 = next(i for i, x in enumerate(fdr) if x <= fdr_cutoff3)\n",
    "    cutoff_index4 = next(i for i, x in enumerate(fdr) if x <= fdr_cutoff4)\n",
    "    return (recall[cutoff_index1],recall[cutoff_index2],recall[cutoff_index3],recall[cutoff_index4])"
   ]
  },
  {
   "cell_type": "code",
   "execution_count": 274,
   "metadata": {
    "scrolled": true
   },
   "outputs": [],
   "source": [
    "log_fdr_5pct, log_fdr_10pct, log_fdr_25pct, log_fdr_50pct=recall_at_fdr(Y_test,Y_pred[:,1])"
   ]
  },
  {
   "cell_type": "code",
   "execution_count": 125,
   "metadata": {},
   "outputs": [
    {
     "name": "stdout",
     "output_type": "stream",
     "text": [
      "Cross-validated scores: [0.97128322 0.97304911 0.9747204  0.97730617 0.97034771 0.97560335\n",
      " 0.98070131 0.973669   0.97157723 0.97682241]\n"
     ]
    }
   ],
   "source": [
    "# cross-validation\n",
    "scores = cross_val_score(logreg, X_train, Y_train, cv=10)\n",
    "print ('Cross-validated scores:', scores)"
   ]
  },
  {
   "cell_type": "code",
   "execution_count": null,
   "metadata": {},
   "outputs": [],
   "source": [
    "predictions = cross_val_predict(logreg, X_train, Y_train, cv=10)\n",
    "accuracy = metrics.r2_score(y, predictions)\n",
    "print (\"Cross-Predicted Accuracy:\", accuracy)"
   ]
  },
  {
   "cell_type": "code",
   "execution_count": 474,
   "metadata": {},
   "outputs": [
    {
     "name": "stdout",
     "output_type": "stream",
     "text": [
      "AUC: 0.7967\n",
      "PRC: 0.2433\n"
     ]
    }
   ],
   "source": [
    "# KNN\n",
    "knn = KNeighborsClassifier(n_neighbors = 3)\n",
    "knn.fit(X_train, Y_train)\n",
    "Y_pred = knn.predict_proba(X_test)\n",
    "acc_knn='{:.2f}'.format(knn.score(X_test, Y_test))\n",
    "#print('Accuracy of KNN classifier on test set: {:.2f}'.format(knn.score(X_test, Y_test)))\n",
    "#acc_knn = round(knn.score(X_train, Y_train) * 100, 2)\n",
    "#acc_knn\n",
    "# calculating auc\n",
    "print ('AUC: {:.4f}'.format(roc_auc_score(Y_test, Y_pred[:,1])))\n",
    "auc_knn='{:.4f}'.format(roc_auc_score(Y_test, Y_pred[:,1]))\n",
    "precision, recall, thresholds = precision_recall_curve(Y_test, Y_pred[:,1])\n",
    "area = auc(recall,precision,reorder=True)\n",
    "print ('PRC: {:.4f}'.format(area))\n",
    "prc_knn='{:.4f}'.format(area)"
   ]
  },
  {
   "cell_type": "code",
   "execution_count": 478,
   "metadata": {
    "scrolled": true
   },
   "outputs": [
    {
     "data": {
      "image/png": "[encoded data removed]",
      "text/plain": [
       "<Figure size 432x288 with 1 Axes>"
      ]
     },
     "metadata": {},
     "output_type": "display_data"
    }
   ],
   "source": [
    "fpr, tpr, threshold = roc_curve(Y_test, Y_pred[:,1])\n",
    "knn_roc_auc = auc(fpr, tpr)\n",
    "\n",
    "plt.title('KNN ROC curve')\n",
    "plt.plot(fpr, tpr, 'b', label = 'AUC = %0.4f' % knn_roc_auc)\n",
    "plt.legend(loc = 'lower right')\n",
    "plt.plot([0, 1], [0, 1],'r--')\n",
    "plt.xlim([0, 1])\n",
    "plt.ylim([0, 1])\n",
    "plt.ylabel('True Positive Rate')\n",
    "plt.xlabel('False Positive Rate')\n",
    "plt.show()"
   ]
  },
  {
   "cell_type": "code",
   "execution_count": 477,
   "metadata": {},
   "outputs": [
    {
     "data": {
      "image/png": "[encoded data removed]",
      "text/plain": [
       "<Figure size 432x288 with 1 Axes>"
      ]
     },
     "metadata": {},
     "output_type": "display_data"
    }
   ],
   "source": [
    "# Plot Precision-Recall curve\n",
    "plt.clf()\n",
    "plt.plot(recall, precision, label='Precision-Recall curve')\n",
    "plt.xlabel('Recall')\n",
    "plt.ylabel('Precision')\n",
    "plt.ylim([0.0, 1.05])\n",
    "plt.xlim([0.0, 1.0])\n",
    "plt.title('KNN PRC={0:0.4f}'.format(area))\n",
    "plt.legend(loc=\"lower left\")\n",
    "plt.show()"
   ]
  },
  {
   "cell_type": "code",
   "execution_count": 270,
   "metadata": {},
   "outputs": [],
   "source": [
    "knn_fdr_5pct, knn_fdr_10pct, knn_fdr_25pct, knn_fdr_50pct=recall_at_fdr(Y_test,Y_pred[:,1])"
   ]
  },
  {
   "cell_type": "code",
   "execution_count": 99,
   "metadata": {},
   "outputs": [
    {
     "name": "stdout",
     "output_type": "stream",
     "text": [
      "Cross-validated scores: [0.96295774 0.96098215 0.9641572  0.96380442 0.96189939 0.96309885\n",
      " 0.95985041 0.96217628 0.96140004 0.96111778]\n"
     ]
    }
   ],
   "source": [
    "# cross-validation\n",
    "scores = cross_val_score(knn, X_train, Y_train, cv=10)\n",
    "print ('Cross-validated scores:', scores)"
   ]
  },
  {
   "cell_type": "code",
   "execution_count": 454,
   "metadata": {},
   "outputs": [
    {
     "name": "stdout",
     "output_type": "stream",
     "text": [
      "AUC: 0.9893\n",
      "PRC: 0.3065\n"
     ]
    }
   ],
   "source": [
    "# Gaussian Naive Bayes\n",
    "gaussian = GaussianNB()\n",
    "gaussian.fit(X_train, Y_train)\n",
    "Y_pred = gaussian.predict_proba(X_test)\n",
    "#acc_gaussian='{:.2f}'.format(gaussian.score(X_test, Y_test))\n",
    "#print('Accuracy of Gaussian Naive Bayes classifier on test set: {:.2f}'.format(gaussian.score(X_test, Y_test)))\n",
    "#acc_gaussian = round(gaussian.score(X_train, Y_train) * 100, 2)\n",
    "#acc_gaussian\n",
    "# calculating auc\n",
    "print ('AUC: {:.4f}'.format(roc_auc_score(Y_test, Y_pred[:,1])))\n",
    "auc_gaussian='{:.4f}'.format(roc_auc_score(Y_test, Y_pred[:,1]))\n",
    "precision, recall, thresholds = precision_recall_curve(Y_test, Y_pred[:,1])\n",
    "area = auc(recall,precision)\n",
    "print ('PRC: {:.4f}'.format(area))\n",
    "prc_gaussian='{:.4f}'.format(area)"
   ]
  },
  {
   "cell_type": "code",
   "execution_count": 457,
   "metadata": {},
   "outputs": [
    {
     "data": {
      "image/png": "[encoded data removed]",
      "text/plain": [
       "<Figure size 432x288 with 1 Axes>"
      ]
     },
     "metadata": {},
     "output_type": "display_data"
    }
   ],
   "source": [
    "fpr, tpr, threshold = roc_curve(Y_test, Y_pred[:,1])\n",
    "gau_roc_auc = auc(fpr, tpr)\n",
    "\n",
    "plt.title('Gaussian Naive Bayes ROC curve')\n",
    "plt.plot(fpr, tpr, 'b', label = 'AUC = %0.4f' % roc_auc)\n",
    "plt.legend(loc = 'lower right')\n",
    "plt.plot([0, 1], [0, 1],'r--')\n",
    "plt.xlim([0, 1])\n",
    "plt.ylim([0, 1])\n",
    "plt.ylabel('True Positive Rate')\n",
    "plt.xlabel('False Positive Rate')\n",
    "plt.show()"
   ]
  },
  {
   "cell_type": "code",
   "execution_count": 458,
   "metadata": {},
   "outputs": [
    {
     "data": {
      "image/png": "[encoded data removed]",
      "text/plain": [
       "<Figure size 432x288 with 1 Axes>"
      ]
     },
     "metadata": {},
     "output_type": "display_data"
    }
   ],
   "source": [
    "# Plot Precision-Recall curve\n",
    "plt.clf()\n",
    "plt.plot(recall, precision, label='Precision-Recall curve')\n",
    "plt.xlabel('Recall')\n",
    "plt.ylabel('Precision')\n",
    "plt.ylim([0.0, 1.05])\n",
    "plt.xlim([0.0, 1.0])\n",
    "plt.title('Gaussian Naive Bayes PRC={0:0.4f}'.format(area))\n",
    "plt.legend(loc=\"lower left\")\n",
    "plt.show()"
   ]
  },
  {
   "cell_type": "code",
   "execution_count": 266,
   "metadata": {},
   "outputs": [],
   "source": [
    "gau_fdr_5pct, gau_fdr_10pct, gau_fdr_25pct, gau_fdr_50pct=recall_at_fdr(Y_test,Y_pred[:,1])"
   ]
  },
  {
   "cell_type": "code",
   "execution_count": 323,
   "metadata": {},
   "outputs": [
    {
     "name": "stdout",
     "output_type": "stream",
     "text": [
      "AUC: 0.9429\n",
      "PRC: 0.9717\n"
     ]
    }
   ],
   "source": [
    "# Decision Tree\n",
    "decision_tree = DecisionTreeClassifier()\n",
    "decision_tree.fit(X_train, Y_train)\n",
    "Y_pred = decision_tree.predict_proba(X_test)\n",
    "acc_decision_tree='{:.2f}'.format(decision_tree.score(X_test, Y_test))\n",
    "#print('Accuracy of decision tree classifier on test set: {:.2f}'.format(decision_tree.score(X_test, Y_test)))\n",
    "#acc_decision_tree = round(decision_tree.score(X_train, Y_train) * 100, 2)\n",
    "#acc_decision_tree\n",
    "# calculating auc\n",
    "print ('AUC: {:.4f}'.format(roc_auc_score(Y_test, Y_pred[:,1])))\n",
    "auc_decision_tree='{:.4f}'.format(roc_auc_score(Y_test, Y_pred[:,1]))\n",
    "precision, recall, thresholds = precision_recall_curve(Y_test, Y_pred[:,1])\n",
    "area = auc(recall,precision)\n",
    "print ('PRC: {:.4f}'.format(area))\n",
    "prc_decision_tree='{:.4f}'.format(area)"
   ]
  },
  {
   "cell_type": "code",
   "execution_count": 324,
   "metadata": {
    "scrolled": false
   },
   "outputs": [
    {
     "data": {
      "image/png": "[encoded data removed]",
      "text/plain": [
       "<Figure size 432x288 with 1 Axes>"
      ]
     },
     "metadata": {},
     "output_type": "display_data"
    }
   ],
   "source": [
    "fpr, tpr, threshold = roc_curve(Y_test, y_pred[:,1])\n",
    "dt_roc_auc = auc(fpr, tpr)\n",
    "\n",
    "plt.title('Decision Tree ROC curve')\n",
    "plt.plot(fpr, tpr, 'b', label = 'AUC = %0.4f' % roc_auc)\n",
    "plt.legend(loc = 'lower right')\n",
    "plt.plot([0, 1], [0, 1],'r--')\n",
    "plt.xlim([0, 1])\n",
    "plt.ylim([0, 1])\n",
    "plt.ylabel('True Positive Rate')\n",
    "plt.xlabel('False Positive Rate')\n",
    "plt.show()"
   ]
  },
  {
   "cell_type": "code",
   "execution_count": 325,
   "metadata": {},
   "outputs": [
    {
     "data": {
      "image/png": "[encoded data removed]",
      "text/plain": [
       "<Figure size 432x288 with 1 Axes>"
      ]
     },
     "metadata": {},
     "output_type": "display_data"
    }
   ],
   "source": [
    "# Plot Precision-Recall curve\n",
    "plt.clf()\n",
    "plt.plot(recall, precision, label='Precision-Recall curve')\n",
    "plt.xlabel('Recall')\n",
    "plt.ylabel('Precision')\n",
    "plt.ylim([0.0, 1.05])\n",
    "plt.xlim([0.0, 1.0])\n",
    "plt.title('Decision Tree PRC={0:0.4f}'.format(area))\n",
    "plt.legend(loc=\"lower left\")\n",
    "plt.show()"
   ]
  },
  {
   "cell_type": "code",
   "execution_count": 262,
   "metadata": {},
   "outputs": [],
   "source": [
    "dt_fdr_5pct, dt_fdr_10pct, dt_fdr_25pct, dt_fdr_50pct=recall_at_fdr(Y_test,Y_pred[:,1])"
   ]
  },
  {
   "cell_type": "code",
   "execution_count": 326,
   "metadata": {
    "scrolled": false
   },
   "outputs": [
    {
     "name": "stdout",
     "output_type": "stream",
     "text": [
      "AUC: 0.9941\n",
      "PRC: 0.9970\n"
     ]
    }
   ],
   "source": [
    "# Random Forest\n",
    "random_forest = RandomForestClassifier(n_estimators=100)\n",
    "random_forest.fit(X_train, Y_train)\n",
    "Y_pred = random_forest.predict_proba(X_test)\n",
    "random_forest.score(X_train, Y_train)\n",
    "acc_random_forest='{:.2f}'.format(random_forest.score(X_test, Y_test))\n",
    "#print('Accuracy of random forest classifier on test set: {:.2f}'.format(random_forest.score(X_test, Y_test)))\n",
    "#acc_random_forest = round(random_forest.score(X_train, Y_train) * 100, 2)\n",
    "#acc_random_forest\n",
    "# calculating auc\n",
    "print ('AUC: {:.4f}'.format(roc_auc_score(Y_test, Y_pred[:,1])))\n",
    "auc_random_forest='{:.4f}'.format(roc_auc_score(Y_test, Y_pred[:,1]))\n",
    "precision, recall, thresholds = precision_recall_curve(Y_test, Y_pred[:,1])\n",
    "area = auc(recall,precision)\n",
    "print ('PRC: {:.4f}'.format(area))\n",
    "prc_random_forest='{:.4f}'.format(area)"
   ]
  },
  {
   "cell_type": "code",
   "execution_count": 327,
   "metadata": {
    "scrolled": true
   },
   "outputs": [
    {
     "data": {
      "image/png": "[encoded data removed]",
      "text/plain": [
       "<Figure size 432x288 with 1 Axes>"
      ]
     },
     "metadata": {},
     "output_type": "display_data"
    }
   ],
   "source": [
    "fpr, tpr, threshold = roc_curve(Y_test, y_pred[:,1])\n",
    "rf_roc_auc = auc(fpr, tpr)\n",
    "\n",
    "plt.title('Random Forest ROC curve')\n",
    "plt.plot(fpr, tpr, 'b', label = 'AUC = %0.4f' % roc_auc)\n",
    "plt.legend(loc = 'lower right')\n",
    "plt.plot([0, 1], [0, 1],'r--')\n",
    "plt.xlim([0, 1])\n",
    "plt.ylim([0, 1])\n",
    "plt.ylabel('True Positive Rate')\n",
    "plt.xlabel('False Positive Rate')\n",
    "plt.show()"
   ]
  },
  {
   "cell_type": "code",
   "execution_count": 328,
   "metadata": {},
   "outputs": [
    {
     "data": {
      "image/png": "[encoded data removed]",
      "text/plain": [
       "<Figure size 432x288 with 1 Axes>"
      ]
     },
     "metadata": {},
     "output_type": "display_data"
    }
   ],
   "source": [
    "# Plot Precision-Recall curve\n",
    "plt.clf()\n",
    "plt.plot(recall, precision, label='Precision-Recall curve')\n",
    "plt.xlabel('Recall')\n",
    "plt.ylabel('Precision')\n",
    "plt.ylim([0.0, 1.05])\n",
    "plt.xlim([0.0, 1.0])\n",
    "plt.title('Random Forest PRC={0:0.4f}'.format(area))\n",
    "plt.legend(loc=\"lower left\")\n",
    "plt.show()"
   ]
  },
  {
   "cell_type": "code",
   "execution_count": 258,
   "metadata": {},
   "outputs": [],
   "source": [
    "rf_fdr_5pct, rf_fdr_10pct, rf_fdr_25pct, rf_fdr_50pct=recall_at_fdr(Y_test,Y_pred[:,1])"
   ]
  },
  {
   "cell_type": "code",
   "execution_count": 319,
   "metadata": {
    "scrolled": true
   },
   "outputs": [
    {
     "data": {
      "text/html": [
       "<div>\n",
       "<style scoped>\n",
       "    .dataframe tbody tr th:only-of-type {\n",
       "        vertical-align: middle;\n",
       "    }\n",
       "\n",
       "    .dataframe tbody tr th {\n",
       "        vertical-align: top;\n",
       "    }\n",
       "\n",
       "    .dataframe thead th {\n",
       "        text-align: right;\n",
       "    }\n",
       "</style>\n",
       "<table border=\"1\" class=\"dataframe\">\n",
       "  <thead>\n",
       "    <tr style=\"text-align: right;\">\n",
       "      <th></th>\n",
       "      <th>Model</th>\n",
       "      <th>auROC</th>\n",
       "      <th>auPRC</th>\n",
       "      <th>Recall at 5%FDR</th>\n",
       "      <th>Recall at 10%FDR</th>\n",
       "      <th>Recall at 25%FDR</th>\n",
       "      <th>Recall at 50%FDR</th>\n",
       "    </tr>\n",
       "  </thead>\n",
       "  <tbody>\n",
       "    <tr>\n",
       "      <th>6</th>\n",
       "      <td>XGboost</td>\n",
       "      <td>0.993209</td>\n",
       "      <td>0.9942</td>\n",
       "      <td>0.978350</td>\n",
       "      <td>0.987672</td>\n",
       "      <td>0.997294</td>\n",
       "      <td>1.0</td>\n",
       "    </tr>\n",
       "    <tr>\n",
       "      <th>0</th>\n",
       "      <td>KNN</td>\n",
       "      <td>0.989243</td>\n",
       "      <td>0.9930</td>\n",
       "      <td>0.961010</td>\n",
       "      <td>0.982460</td>\n",
       "      <td>0.982460</td>\n",
       "      <td>1.0</td>\n",
       "    </tr>\n",
       "    <tr>\n",
       "      <th>1</th>\n",
       "      <td>Logistic Regression</td>\n",
       "      <td>0.989243</td>\n",
       "      <td>0.9936</td>\n",
       "      <td>0.981658</td>\n",
       "      <td>0.990378</td>\n",
       "      <td>0.998296</td>\n",
       "      <td>1.0</td>\n",
       "    </tr>\n",
       "    <tr>\n",
       "      <th>2</th>\n",
       "      <td>Random Forest</td>\n",
       "      <td>0.989243</td>\n",
       "      <td>0.9971</td>\n",
       "      <td>0.984264</td>\n",
       "      <td>0.991380</td>\n",
       "      <td>0.998396</td>\n",
       "      <td>1.0</td>\n",
       "    </tr>\n",
       "    <tr>\n",
       "      <th>3</th>\n",
       "      <td>Naive Bayes</td>\n",
       "      <td>0.989243</td>\n",
       "      <td>0.9870</td>\n",
       "      <td>0.965220</td>\n",
       "      <td>0.978551</td>\n",
       "      <td>0.994888</td>\n",
       "      <td>1.0</td>\n",
       "    </tr>\n",
       "    <tr>\n",
       "      <th>4</th>\n",
       "      <td>Decision Tree</td>\n",
       "      <td>0.989243</td>\n",
       "      <td>0.9721</td>\n",
       "      <td>0.954796</td>\n",
       "      <td>0.954796</td>\n",
       "      <td>0.954796</td>\n",
       "      <td>1.0</td>\n",
       "    </tr>\n",
       "    <tr>\n",
       "      <th>5</th>\n",
       "      <td>Neural Network</td>\n",
       "      <td>0.989243</td>\n",
       "      <td>0.9942</td>\n",
       "      <td>0.978350</td>\n",
       "      <td>0.987672</td>\n",
       "      <td>0.997294</td>\n",
       "      <td>1.0</td>\n",
       "    </tr>\n",
       "  </tbody>\n",
       "</table>\n",
       "</div>"
      ],
      "text/plain": [
       "                 Model     auROC    auPRC  Recall at 5%FDR  Recall at 10%FDR  \\\n",
       "6              XGboost  0.993209   0.9942         0.978350          0.987672   \n",
       "0                  KNN  0.989243   0.9930         0.961010          0.982460   \n",
       "1  Logistic Regression  0.989243   0.9936         0.981658          0.990378   \n",
       "2        Random Forest  0.989243   0.9971         0.984264          0.991380   \n",
       "3          Naive Bayes  0.989243   0.9870         0.965220          0.978551   \n",
       "4        Decision Tree  0.989243   0.9721         0.954796          0.954796   \n",
       "5       Neural Network  0.989243   0.9942         0.978350          0.987672   \n",
       "\n",
       "   Recall at 25%FDR  Recall at 50%FDR  \n",
       "6          0.997294               1.0  \n",
       "0          0.982460               1.0  \n",
       "1          0.998296               1.0  \n",
       "2          0.998396               1.0  \n",
       "3          0.994888               1.0  \n",
       "4          0.954796               1.0  \n",
       "5          0.997294               1.0  "
      ]
     },
     "execution_count": 319,
     "metadata": {},
     "output_type": "execute_result"
    }
   ],
   "source": [
    "models = pd.DataFrame({\n",
    "    'Model': ['KNN', 'Logistic Regression', \n",
    "              'Random Forest', 'Naive Bayes','Decision Tree','Neural Network','XGboost'],\n",
    "    'auROC': [knn_roc_auc, log_roc_auc, rf_roc_auc, gau_roc_auc, dt_roc_auc, nn_roc_auc, xg_roc_auc],\n",
    "    'auPRC': [prc_knn,prc_log,prc_random_forest,prc_gaussian,prc_decision_tree, prc_nn, prc_xgboost],\n",
    "    'Recall at 5%FDR':[knn_fdr_5pct,log_fdr_5pct,rf_fdr_5pct,gau_fdr_5pct,dt_fdr_5pct,nn_fdr_5pct,xg_fdr_5pct],\n",
    "    'Recall at 10%FDR':[knn_fdr_10pct,log_fdr_10pct,rf_fdr_10pct,gau_fdr_10pct,dt_fdr_10pct,nn_fdr_10pct,xg_fdr_10pct],\n",
    "    'Recall at 25%FDR':[knn_fdr_25pct,log_fdr_25pct,rf_fdr_25pct,gau_fdr_25pct,dt_fdr_25pct,nn_fdr_25pct,xg_fdr_25pct],\n",
    "    'Recall at 50%FDR':[knn_fdr_50pct,log_fdr_50pct,rf_fdr_50pct,gau_fdr_50pct,dt_fdr_50pct,nn_fdr_50pct,xg_fdr_50pct]\n",
    "                        })\n",
    "models=models[['Model','auROC','auPRC','Recall at 5%FDR','Recall at 10%FDR','Recall at 25%FDR','Recall at 50%FDR']]\n",
    "models.sort_values(by='auROC', ascending=False)"
   ]
  },
  {
   "cell_type": "markdown",
   "metadata": {},
   "source": [
    "# preprocessing the features\n",
    "# neural network and XGboost\n"
   ]
  },
  {
   "cell_type": "code",
   "execution_count": 137,
   "metadata": {},
   "outputs": [
    {
     "data": {
      "text/plain": [
       "StandardScaler(copy=True, with_mean=True, with_std=True)"
      ]
     },
     "execution_count": 137,
     "metadata": {},
     "output_type": "execute_result"
    }
   ],
   "source": [
    "# preprocessing alldata\n",
    "scaler = StandardScaler()\n",
    "scaler.fit(X_train)"
   ]
  },
  {
   "cell_type": "code",
   "execution_count": 138,
   "metadata": {},
   "outputs": [],
   "source": [
    "# Now apply the transformations to the data\n",
    "X_train = scaler.transform(X_train)\n",
    "X_test = scaler.transform(X_test)"
   ]
  },
  {
   "cell_type": "code",
   "execution_count": 139,
   "metadata": {
    "scrolled": true
   },
   "outputs": [
    {
     "data": {
      "text/plain": [
       "MLPClassifier(activation='relu', alpha=0.0001, batch_size='auto', beta_1=0.9,\n",
       "       beta_2=0.999, early_stopping=False, epsilon=1e-08,\n",
       "       hidden_layer_sizes=(35, 100, 35), learning_rate='constant',\n",
       "       learning_rate_init=0.001, max_iter=200, momentum=0.9,\n",
       "       nesterovs_momentum=True, power_t=0.5, random_state=None,\n",
       "       shuffle=True, solver='adam', tol=0.0001, validation_fraction=0.1,\n",
       "       verbose=False, warm_start=False)"
      ]
     },
     "execution_count": 139,
     "metadata": {},
     "output_type": "execute_result"
    }
   ],
   "source": [
    "# neural network\n",
    "\n",
    "mlp = MLPClassifier(hidden_layer_sizes=(35,100,35),max_iter=200)\n",
    "mlp.fit(X_train,Y_train)"
   ]
  },
  {
   "cell_type": "code",
   "execution_count": 281,
   "metadata": {
    "scrolled": true
   },
   "outputs": [
    {
     "name": "stdout",
     "output_type": "stream",
     "text": [
      "[[5478  287]\n",
      " [ 332 9645]]\n"
     ]
    }
   ],
   "source": [
    "#predictions = mlp.predict(X_test)\n",
    "#print(confusion_matrix(Y_test,predictions))"
   ]
  },
  {
   "cell_type": "code",
   "execution_count": 284,
   "metadata": {},
   "outputs": [],
   "source": [
    "predictions=mlp.predict_proba(X_test)"
   ]
  },
  {
   "cell_type": "code",
   "execution_count": null,
   "metadata": {},
   "outputs": [],
   "source": [
    "#print(classification_report(Y_test,predictions))"
   ]
  },
  {
   "cell_type": "code",
   "execution_count": 286,
   "metadata": {
    "scrolled": true
   },
   "outputs": [
    {
     "name": "stdout",
     "output_type": "stream",
     "text": [
      "AUC: 0.9893\n",
      "PRC: 0.9942\n"
     ]
    }
   ],
   "source": [
    "# calculating auc\n",
    "print ('AUC: {:.4f}'.format(roc_auc_score(Y_test, predictions[:,1])))\n",
    "auc_nn='{:.4f}'.format(roc_auc_score(Y_test, predictions[:,1]))\n",
    "precision, recall, thresholds = precision_recall_curve(Y_test, predictions[:,1])\n",
    "area = auc(recall,precision)\n",
    "print ('PRC: {:.4f}'.format(area))\n",
    "prc_nn=' {:.4f}'.format(area)"
   ]
  },
  {
   "cell_type": "code",
   "execution_count": 287,
   "metadata": {},
   "outputs": [
    {
     "data": {
      "image/png": "[encoded data removed]",
      "text/plain": [
       "<Figure size 432x288 with 1 Axes>"
      ]
     },
     "metadata": {},
     "output_type": "display_data"
    }
   ],
   "source": [
    "fpr, tpr, threshold = roc_curve(Y_test, y_pred[:,1])\n",
    "nn_roc_auc = auc(fpr, tpr)\n",
    "\n",
    "plt.title('Neural Network ROC curve')\n",
    "plt.plot(fpr, tpr, 'b', label = 'AUC = %0.4f' % roc_auc)\n",
    "plt.legend(loc = 'lower right')\n",
    "plt.plot([0, 1], [0, 1],'r--')\n",
    "plt.xlim([0, 1])\n",
    "plt.ylim([0, 1])\n",
    "plt.ylabel('True Positive Rate')\n",
    "plt.xlabel('False Positive Rate')\n",
    "plt.show()"
   ]
  },
  {
   "cell_type": "code",
   "execution_count": 288,
   "metadata": {},
   "outputs": [
    {
     "data": {
      "image/png": "[encoded data removed]",
      "text/plain": [
       "<Figure size 432x288 with 1 Axes>"
      ]
     },
     "metadata": {},
     "output_type": "display_data"
    }
   ],
   "source": [
    "# Plot Precision-Recall curve\n",
    "plt.clf()\n",
    "plt.plot(recall, precision, label='Precision-Recall curve')\n",
    "plt.xlabel('Recall')\n",
    "plt.ylabel('Precision')\n",
    "plt.ylim([0.0, 1.05])\n",
    "plt.xlim([0.0, 1.0])\n",
    "plt.title('Neural Network PRC={0:0.4f}'.format(area))\n",
    "plt.legend(loc=\"lower left\")\n",
    "plt.show()"
   ]
  },
  {
   "cell_type": "code",
   "execution_count": 290,
   "metadata": {},
   "outputs": [],
   "source": [
    "nn_fdr_5pct, nn_fdr_10pct, nn_fdr_25pct, nn_fdr_50pct=recall_at_fdr(Y_test,predictions[:,1])"
   ]
  },
  {
   "cell_type": "code",
   "execution_count": 357,
   "metadata": {
    "scrolled": true
   },
   "outputs": [
    {
     "data": {
      "text/plain": [
       "XGBClassifier(base_score=0.5, booster='gbtree', colsample_bylevel=1,\n",
       "       colsample_bytree=1, gamma=0, learning_rate=0.1, max_delta_step=0,\n",
       "       max_depth=7, min_child_weight=7, missing=None, n_estimators=75,\n",
       "       n_jobs=1, nthread=20, objective='binary:logistic', random_state=0,\n",
       "       reg_alpha=0, reg_lambda=1, scale_pos_weight=10, seed=1996,\n",
       "       silent=True, subsample=1)"
      ]
     },
     "execution_count": 357,
     "metadata": {},
     "output_type": "execute_result"
    }
   ],
   "source": [
    "# fit model to training data\n",
    "model = XGBClassifier(n_estimators=75, subsample=1, seed=1996, gamma=0,objective='binary:logistic',\n",
    "                      scale_pos_weight=10,max_depth=7, min_child_weight=7,nthread=20)\n",
    "model.fit(X_train, Y_train)"
   ]
  },
  {
   "cell_type": "code",
   "execution_count": 383,
   "metadata": {
    "scrolled": true
   },
   "outputs": [
    {
     "name": "stdout",
     "output_type": "stream",
     "text": [
      "AUC: 0.9935\n",
      "PRC: 0.9963\n"
     ]
    }
   ],
   "source": [
    "# make predictions for test data\n",
    "predictions = model.predict_proba(X_test)\n",
    "#predictions = [round(value) for value in y_pred]\n",
    "# evaluate predictions\n",
    "#accuracy = accuracy_score(Y_test, predictions)\n",
    "# print(\"Accuracy: %.2f%%\" % (accuracy * 100.0))\n",
    "# calculating auc\n",
    "print ('AUC: {:.4f}'.format(roc_auc_score(Y_test, predictions[:,1])))\n",
    "auc_xgboost='{:.4f}'.format(roc_auc_score(Y_test, predictions[:,1]))\n",
    "precision, recall, thresholds = precision_recall_curve(Y_test, predictions[:,1])\n",
    "area = auc(recall,precision)\n",
    "print ('PRC: {:.4f}'.format(area))\n",
    "prc_xgboost='{:.4f}'.format(area)"
   ]
  },
  {
   "cell_type": "code",
   "execution_count": 375,
   "metadata": {},
   "outputs": [
    {
     "data": {
      "text/plain": [
       "(98534,)"
      ]
     },
     "execution_count": 375,
     "metadata": {},
     "output_type": "execute_result"
    }
   ],
   "source": [
    "Y_test.shape"
   ]
  },
  {
   "cell_type": "code",
   "execution_count": 456,
   "metadata": {},
   "outputs": [
    {
     "ename": "ValueError",
     "evalue": "Found input variables with inconsistent numbers of samples: [98534, 105706]",
     "output_type": "error",
     "traceback": [
      "\u001b[0;31m---------------------------------------------------------------------------\u001b[0m",
      "\u001b[0;31mValueError\u001b[0m                                Traceback (most recent call last)",
      "\u001b[0;32m<ipython-input-456-f5d1b0c8829c>\u001b[0m in \u001b[0;36m<module>\u001b[0;34m()\u001b[0m\n\u001b[0;32m----> 1\u001b[0;31m \u001b[0mfpr\u001b[0m\u001b[0;34m,\u001b[0m \u001b[0mtpr\u001b[0m\u001b[0;34m,\u001b[0m \u001b[0mthreshold\u001b[0m \u001b[0;34m=\u001b[0m \u001b[0mroc_curve\u001b[0m\u001b[0;34m(\u001b[0m\u001b[0mY_test\u001b[0m\u001b[0;34m,\u001b[0m \u001b[0my_pred\u001b[0m\u001b[0;34m[\u001b[0m\u001b[0;34m:\u001b[0m\u001b[0;34m,\u001b[0m\u001b[0;36m1\u001b[0m\u001b[0;34m]\u001b[0m\u001b[0;34m)\u001b[0m\u001b[0;34m\u001b[0m\u001b[0m\n\u001b[0m\u001b[1;32m      2\u001b[0m \u001b[0mxg_roc_auc\u001b[0m \u001b[0;34m=\u001b[0m \u001b[0mauc\u001b[0m\u001b[0;34m(\u001b[0m\u001b[0mfpr\u001b[0m\u001b[0;34m,\u001b[0m \u001b[0mtpr\u001b[0m\u001b[0;34m)\u001b[0m\u001b[0;34m\u001b[0m\u001b[0m\n\u001b[1;32m      3\u001b[0m \u001b[0;34m\u001b[0m\u001b[0m\n\u001b[1;32m      4\u001b[0m \u001b[0mplt\u001b[0m\u001b[0;34m.\u001b[0m\u001b[0mtitle\u001b[0m\u001b[0;34m(\u001b[0m\u001b[0;34m'XGboost ROC curve'\u001b[0m\u001b[0;34m)\u001b[0m\u001b[0;34m\u001b[0m\u001b[0m\n\u001b[1;32m      5\u001b[0m \u001b[0mplt\u001b[0m\u001b[0;34m.\u001b[0m\u001b[0mplot\u001b[0m\u001b[0;34m(\u001b[0m\u001b[0mfpr\u001b[0m\u001b[0;34m,\u001b[0m \u001b[0mtpr\u001b[0m\u001b[0;34m,\u001b[0m \u001b[0;34m'b'\u001b[0m\u001b[0;34m,\u001b[0m \u001b[0mlabel\u001b[0m \u001b[0;34m=\u001b[0m \u001b[0;34m'AUC = %0.4f'\u001b[0m \u001b[0;34m%\u001b[0m \u001b[0mroc_auc\u001b[0m\u001b[0;34m)\u001b[0m\u001b[0;34m\u001b[0m\u001b[0m\n",
      "\u001b[0;32m/Library/Frameworks/Python.framework/Versions/3.6/lib/python3.6/site-packages/sklearn/metrics/ranking.py\u001b[0m in \u001b[0;36mroc_curve\u001b[0;34m(y_true, y_score, pos_label, sample_weight, drop_intermediate)\u001b[0m\n\u001b[1;32m    532\u001b[0m     \"\"\"\n\u001b[1;32m    533\u001b[0m     fps, tps, thresholds = _binary_clf_curve(\n\u001b[0;32m--> 534\u001b[0;31m         y_true, y_score, pos_label=pos_label, sample_weight=sample_weight)\n\u001b[0m\u001b[1;32m    535\u001b[0m \u001b[0;34m\u001b[0m\u001b[0m\n\u001b[1;32m    536\u001b[0m     \u001b[0;31m# Attempt to drop thresholds corresponding to points in between and\u001b[0m\u001b[0;34m\u001b[0m\u001b[0;34m\u001b[0m\u001b[0m\n",
      "\u001b[0;32m/Library/Frameworks/Python.framework/Versions/3.6/lib/python3.6/site-packages/sklearn/metrics/ranking.py\u001b[0m in \u001b[0;36m_binary_clf_curve\u001b[0;34m(y_true, y_score, pos_label, sample_weight)\u001b[0m\n\u001b[1;32m    318\u001b[0m         \u001b[0;32mraise\u001b[0m \u001b[0mValueError\u001b[0m\u001b[0;34m(\u001b[0m\u001b[0;34m\"{0} format is not supported\"\u001b[0m\u001b[0;34m.\u001b[0m\u001b[0mformat\u001b[0m\u001b[0;34m(\u001b[0m\u001b[0my_type\u001b[0m\u001b[0;34m)\u001b[0m\u001b[0;34m)\u001b[0m\u001b[0;34m\u001b[0m\u001b[0m\n\u001b[1;32m    319\u001b[0m \u001b[0;34m\u001b[0m\u001b[0m\n\u001b[0;32m--> 320\u001b[0;31m     \u001b[0mcheck_consistent_length\u001b[0m\u001b[0;34m(\u001b[0m\u001b[0my_true\u001b[0m\u001b[0;34m,\u001b[0m \u001b[0my_score\u001b[0m\u001b[0;34m,\u001b[0m \u001b[0msample_weight\u001b[0m\u001b[0;34m)\u001b[0m\u001b[0;34m\u001b[0m\u001b[0m\n\u001b[0m\u001b[1;32m    321\u001b[0m     \u001b[0my_true\u001b[0m \u001b[0;34m=\u001b[0m \u001b[0mcolumn_or_1d\u001b[0m\u001b[0;34m(\u001b[0m\u001b[0my_true\u001b[0m\u001b[0;34m)\u001b[0m\u001b[0;34m\u001b[0m\u001b[0m\n\u001b[1;32m    322\u001b[0m     \u001b[0my_score\u001b[0m \u001b[0;34m=\u001b[0m \u001b[0mcolumn_or_1d\u001b[0m\u001b[0;34m(\u001b[0m\u001b[0my_score\u001b[0m\u001b[0;34m)\u001b[0m\u001b[0;34m\u001b[0m\u001b[0m\n",
      "\u001b[0;32m/Library/Frameworks/Python.framework/Versions/3.6/lib/python3.6/site-packages/sklearn/utils/validation.py\u001b[0m in \u001b[0;36mcheck_consistent_length\u001b[0;34m(*arrays)\u001b[0m\n\u001b[1;32m    202\u001b[0m     \u001b[0;32mif\u001b[0m \u001b[0mlen\u001b[0m\u001b[0;34m(\u001b[0m\u001b[0muniques\u001b[0m\u001b[0;34m)\u001b[0m \u001b[0;34m>\u001b[0m \u001b[0;36m1\u001b[0m\u001b[0;34m:\u001b[0m\u001b[0;34m\u001b[0m\u001b[0m\n\u001b[1;32m    203\u001b[0m         raise ValueError(\"Found input variables with inconsistent numbers of\"\n\u001b[0;32m--> 204\u001b[0;31m                          \" samples: %r\" % [int(l) for l in lengths])\n\u001b[0m\u001b[1;32m    205\u001b[0m \u001b[0;34m\u001b[0m\u001b[0m\n\u001b[1;32m    206\u001b[0m \u001b[0;34m\u001b[0m\u001b[0m\n",
      "\u001b[0;31mValueError\u001b[0m: Found input variables with inconsistent numbers of samples: [98534, 105706]"
     ]
    }
   ],
   "source": [
    "fpr, tpr, threshold = roc_curve(Y_test, y_pred[:,1])\n",
    "xg_roc_auc = auc(fpr, tpr)\n",
    "\n",
    "plt.title('XGboost ROC curve')\n",
    "plt.plot(fpr, tpr, 'b', label = 'AUC = %0.4f' % roc_auc)\n",
    "plt.legend(loc = 'lower right')\n",
    "plt.plot([0, 1], [0, 1],'r--')\n",
    "plt.xlim([0, 1])\n",
    "plt.ylim([0, 1])\n",
    "plt.ylabel('True Positive Rate')\n",
    "plt.xlabel('False Positive Rate')\n",
    "plt.show()"
   ]
  },
  {
   "cell_type": "code",
   "execution_count": 455,
   "metadata": {
    "scrolled": true
   },
   "outputs": [
    {
     "data": {
      "image/png": "[encoded data removed]",
      "text/plain": [
       "<Figure size 432x288 with 1 Axes>"
      ]
     },
     "metadata": {},
     "output_type": "display_data"
    }
   ],
   "source": [
    "# Plot Precision-Recall curve\n",
    "plt.clf()\n",
    "plt.plot(recall, precision, label='Precision-Recall curve')\n",
    "plt.xlabel('Recall')\n",
    "plt.ylabel('Precision')\n",
    "plt.ylim([0.0, 1.05])\n",
    "plt.xlim([0.0, 1.0])\n",
    "plt.title('XGboost PRC={0:0.4f}'.format(area))\n",
    "plt.legend(loc=\"lower left\")\n",
    "plt.show()"
   ]
  },
  {
   "cell_type": "code",
   "execution_count": 297,
   "metadata": {},
   "outputs": [],
   "source": [
    "xg_fdr_5pct, xg_fdr_10pct, xg_fdr_25pct, xg_fdr_50pct=recall_at_fdr(Y_test,predictions[:,1])"
   ]
  },
  {
   "cell_type": "code",
   "execution_count": null,
   "metadata": {},
   "outputs": [],
   "source": []
  }
 ],
 "metadata": {
  "kernelspec": {
   "display_name": "Python 3",
   "language": "python",
   "name": "python3"
  },
  "language_info": {
   "codemirror_mode": {
    "name": "ipython",
    "version": 3
   },
   "file_extension": ".py",
   "mimetype": "text/x-python",
   "name": "python",
   "nbconvert_exporter": "python",
   "pygments_lexer": "ipython3",
   "version": "3.6.5"
  }
 },
 "nbformat": 4,
 "nbformat_minor": 2
}
