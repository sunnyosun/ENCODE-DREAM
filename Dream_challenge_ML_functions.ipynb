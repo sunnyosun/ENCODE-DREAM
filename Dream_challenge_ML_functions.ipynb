{
 "cells": [
  {
   "cell_type": "markdown",
   "metadata": {},
   "source": [
    "# To predict in vivo TF binding\n",
    "\n",
    "Features extracted from:\n",
    "Motif scanning\n",
    "MNase-seq\n",
    "RNA-seq\n",
    "\n",
    "Gene annotation\n",
    "Cell lines:\n",
    "A-549\n",
    "MCF-7\n",
    "HepG2\n",
    "K562\n",
    "HeLa-S3\n",
    "\n",
    "Held out chrs (did not have the label file):\n",
    "chr1\n",
    "chr8\n",
    "chr20\n",
    "New held out chrs: chr2"
   ]
  },
  {
   "cell_type": "code",
   "execution_count": 1,
   "metadata": {
    "scrolled": true
   },
   "outputs": [
    {
     "name": "stderr",
     "output_type": "stream",
     "text": [
      "/Library/Frameworks/Python.framework/Versions/3.6/lib/python3.6/site-packages/sklearn/cross_validation.py:41: DeprecationWarning: This module was deprecated in version 0.18 in favor of the model_selection module into which all the refactored classes and functions are moved. Also note that the interface of the new CV iterators are different from that of this module. This module will be removed in 0.20.\n",
      "  \"This module will be removed in 0.20.\", DeprecationWarning)\n"
     ]
    }
   ],
   "source": [
    "# Modules\n",
    "\n",
    "# import regular expression module\n",
    "import re\n",
    "\n",
    "# import sys module\n",
    "import sys\n",
    "\n",
    "from Bio import SeqIO\n",
    "from Bio.Seq import Seq\n",
    "from Bio.Alphabet import generic_dna\n",
    "import pandas as pd\n",
    "import math\n",
    "\n",
    "import matplotlib.pyplot as plt\n",
    "\n",
    "# machine learning\n",
    "from sklearn import preprocessing\n",
    "from sklearn.linear_model import LogisticRegression\n",
    "from sklearn.svm import SVC, LinearSVC\n",
    "from sklearn.ensemble import RandomForestClassifier\n",
    "from sklearn.neighbors import KNeighborsClassifier\n",
    "from sklearn.naive_bayes import GaussianNB\n",
    "from sklearn.linear_model import Perceptron\n",
    "from sklearn.linear_model import SGDClassifier\n",
    "from sklearn.tree import DecisionTreeClassifier\n",
    "from sklearn.preprocessing import StandardScaler\n",
    "from sklearn.neural_network import MLPClassifier\n",
    "from sklearn.metrics import classification_report,confusion_matrix\n",
    "from sklearn import metrics\n",
    "from sklearn.metrics import roc_auc_score\n",
    "from sklearn.metrics import average_precision_score, accuracy_score\n",
    "from sklearn.metrics import precision_recall_curve\n",
    "from sklearn.metrics import roc_curve, auc, roc_auc_score\n",
    "import numpy as np\n",
    "from sklearn.cross_validation import cross_val_score, cross_val_predict\n",
    "from xgboost import XGBClassifier\n",
    "from sklearn.feature_selection import SelectFdr"
   ]
  },
  {
   "cell_type": "code",
   "execution_count": 2,
   "metadata": {},
   "outputs": [],
   "source": [
    "##################################################################\n",
    "##################################################################\n",
    "# functions"
   ]
  },
  {
   "cell_type": "code",
   "execution_count": 3,
   "metadata": {},
   "outputs": [],
   "source": [
    "def recall_at_fdr(y_true, y_pred, fdr_cutoff1=0.05, fdr_cutoff2=0.1, fdr_cutoff3=0.25,fdr_cutoff4=0.5):\n",
    "    precision, recall, thresholds = precision_recall_curve(y_true, y_pred)\n",
    "    fdr = 1- precision\n",
    "    cutoff_index1 = next(i for i, x in enumerate(fdr) if x <= fdr_cutoff1)\n",
    "    cutoff_index2 = next(i for i, x in enumerate(fdr) if x <= fdr_cutoff2)\n",
    "    cutoff_index3 = next(i for i, x in enumerate(fdr) if x <= fdr_cutoff3)\n",
    "    cutoff_index4 = next(i for i, x in enumerate(fdr) if x <= fdr_cutoff4)\n",
    "    return (recall[cutoff_index1],recall[cutoff_index2],recall[cutoff_index3],recall[cutoff_index4])"
   ]
  },
  {
   "cell_type": "code",
   "execution_count": 4,
   "metadata": {},
   "outputs": [],
   "source": [
    "def log_reg(X_train,Y_train,X_test,Y_test,cellline):\n",
    "    # Logistic Regression\n",
    "    logreg = LogisticRegression()\n",
    "    logreg.fit(X_train, Y_train)\n",
    "    Y_pred = logreg.predict_proba(X_test)\n",
    "    # calculating auc\n",
    "    precision, recall, thresholds = precision_recall_curve(Y_test,Y_pred[:,1])\n",
    "    area = auc(recall,precision,reorder=True)\n",
    "    prc_log='{:.4f}'.format(area)\n",
    "    fpr, tpr, threshold = roc_curve(Y_test, Y_pred[:,1])\n",
    "    log_roc_auc = auc(fpr, tpr)\n",
    "    # plot ROC curve\n",
    "    plt.figure()\n",
    "    plt.title('Logistic Regression ROC curve')\n",
    "    plt.plot(fpr, tpr, 'b', label = 'AUC = %0.4f' % log_roc_auc)\n",
    "    plt.legend(loc = 'lower right')\n",
    "    plt.plot([0, 1], [0, 1],'r--')\n",
    "    plt.xlim([0, 1])\n",
    "    plt.ylim([0, 1])\n",
    "    plt.ylabel('True Positive Rate')\n",
    "    plt.xlabel('False Positive Rate')\n",
    "    f = open(cellline+'_log_roc.png', 'wb')\n",
    "    plt.savefig(cellline+'_log_roc.png')\n",
    "    f.close()\n",
    "    # Plot Precision-Recall curve\n",
    "    plt.figure()\n",
    "    plt.clf()\n",
    "    plt.plot(recall, precision, label='Precision-Recall curve')\n",
    "    plt.xlabel('Recall')\n",
    "    plt.ylabel('Precision')\n",
    "    plt.ylim([0.0, 1.05])\n",
    "    plt.xlim([0.0, 1.0])\n",
    "    plt.title('Logistic Regression PRC={0:0.4f}'.format(area))\n",
    "    plt.legend(loc=\"lower left\")\n",
    "    f = open(cellline+'_log_prc.png', 'wb')\n",
    "    plt.savefig(cellline+'_log_prc.png')\n",
    "    f.close()\n",
    "    # calculate recalls\n",
    "    log_fdr_5pct, log_fdr_10pct, log_fdr_25pct, log_fdr_50pct=recall_at_fdr(Y_test,Y_pred[:,1])\n",
    "    return (prc_log,log_roc_auc,log_fdr_5pct,log_fdr_10pct,log_fdr_25pct,log_fdr_50pct)"
   ]
  },
  {
   "cell_type": "code",
   "execution_count": 5,
   "metadata": {},
   "outputs": [],
   "source": [
    "def xgboost_train(X_train,Y_train,X_test,Y_test,cellline, scale):\n",
    "    model = XGBClassifier(n_estimators=75, subsample=1, seed=1996, gamma=0,objective='binary:logistic',\n",
    "                      scale_pos_weight=scale,max_depth=7, min_child_weight=7,nthread=20)\n",
    "    model.fit(X_train, Y_train)\n",
    "    predictions = model.predict_proba(X_test)\n",
    "    precision, recall, thresholds = precision_recall_curve(Y_test, predictions[:,1])\n",
    "    area = auc(recall,precision)\n",
    "    prc_xgboost='{:.4f}'.format(area)\n",
    "    fpr, tpr, threshold = roc_curve(Y_test, predictions[:,1])\n",
    "    xg_roc_auc = auc(fpr, tpr)\n",
    "    # Plot Precision-Recall curve\n",
    "    plt.figure()\n",
    "    plt.title('XGboost ROC curve')\n",
    "    plt.plot(fpr, tpr, 'b', label = 'AUC = %0.4f' % xg_roc_auc)\n",
    "    plt.legend(loc = 'lower right')\n",
    "    plt.plot([0, 1], [0, 1],'r--')\n",
    "    plt.xlim([0, 1])\n",
    "    plt.ylim([0, 1])\n",
    "    plt.ylabel('True Positive Rate')\n",
    "    plt.xlabel('False Positive Rate')\n",
    "    f = open(cellline+'_xgboost_roc.png', 'wb')\n",
    "    plt.savefig(cellline+'_xgboost_roc.png')\n",
    "    f.close()\n",
    "    # Plot Precision-Recall curve\n",
    "    plt.figure()\n",
    "    plt.clf()\n",
    "    plt.plot(recall, precision, label='Precision-Recall curve')\n",
    "    plt.xlabel('Recall')\n",
    "    plt.ylabel('Precision')\n",
    "    plt.ylim([0.0, 1.05])\n",
    "    plt.xlim([0.0, 1.0])\n",
    "    plt.title('XGboost PRC={0:0.4f}'.format(area))\n",
    "    plt.legend(loc=\"lower left\")\n",
    "    f = open(cellline+'_xgboost_prc.png', 'wb')\n",
    "    plt.savefig(cellline+'_xgboost_prc.png')\n",
    "    f.close()\n",
    "    # calculate recalls\n",
    "    xg_fdr_5pct, xg_fdr_10pct, xg_fdr_25pct, xg_fdr_50pct=recall_at_fdr(Y_test,predictions[:,1])\n",
    "    return (prc_xgboost,xg_roc_auc,xg_fdr_5pct, xg_fdr_10pct, xg_fdr_25pct, xg_fdr_50pct)\n"
   ]
  },
  {
   "cell_type": "code",
   "execution_count": 6,
   "metadata": {},
   "outputs": [],
   "source": [
    "def gau_train(X_train,Y_train,X_test,Y_test,cellline):\n",
    "    gaussian = GaussianNB()\n",
    "    gaussian.fit(X_train, Y_train)\n",
    "    Y_pred = gaussian.predict_proba(X_test)\n",
    "    # calculating auc\n",
    "    precision, recall, thresholds = precision_recall_curve(Y_test, Y_pred[:,1])\n",
    "    area = auc(recall,precision)\n",
    "    prc_gaussian='{:.4f}'.format(area)\n",
    "    fpr, tpr, threshold = roc_curve(Y_test, Y_pred[:,1])\n",
    "    gau_roc_auc = auc(fpr, tpr)\n",
    "    # plot ROC curve\n",
    "    plt.figure()\n",
    "    plt.title('Gaussian Naive Bayes ROC curve')\n",
    "    plt.plot(fpr, tpr, 'b', label = 'AUC = %0.4f' % gau_roc_auc)\n",
    "    plt.legend(loc = 'lower right')\n",
    "    plt.plot([0, 1], [0, 1],'r--')\n",
    "    plt.xlim([0, 1])\n",
    "    plt.ylim([0, 1])\n",
    "    plt.ylabel('True Positive Rate')\n",
    "    plt.xlabel('False Positive Rate')\n",
    "    f = open(cellline+'_gau_roc.png', 'wb')\n",
    "    plt.savefig(cellline+'_gau_roc.png')\n",
    "    f.close()\n",
    "    # plot Precision-Recall curve\n",
    "    plt.figure()\n",
    "    plt.clf()\n",
    "    plt.plot(recall, precision, label='Precision-Recall curve')\n",
    "    plt.xlabel('Recall')\n",
    "    plt.ylabel('Precision')\n",
    "    plt.ylim([0.0, 1.05])\n",
    "    plt.xlim([0.0, 1.0])\n",
    "    plt.title('Gaussian Naive Bayes PRC={0:0.4f}'.format(area))\n",
    "    plt.legend(loc=\"lower left\")\n",
    "    f = open(cellline+'_gau_prc.png', 'wb')\n",
    "    plt.savefig(cellline+'_gau_prc.png')\n",
    "    f.close()\n",
    "    # calculate recalls\n",
    "    gau_fdr_5pct, gau_fdr_10pct, gau_fdr_25pct, gau_fdr_50pct=recall_at_fdr(Y_test,Y_pred[:,1])\n",
    "    return (prc_gaussian,gau_roc_auc,gau_fdr_5pct,gau_fdr_10pct,gau_fdr_10pct,gau_fdr_25pct,gau_fdr_50pct)"
   ]
  },
  {
   "cell_type": "code",
   "execution_count": 7,
   "metadata": {},
   "outputs": [],
   "source": [
    "def knn_train(X_train,Y_train,X_test,Y_test,cellline):\n",
    "    # KNN\n",
    "    knn = KNeighborsClassifier(n_neighbors = 3)\n",
    "    knn.fit(X_train, Y_train)\n",
    "    Y_pred = knn.predict_proba(X_test)\n",
    "    # calculating auc\n",
    "    precision, recall, thresholds = precision_recall_curve(Y_test, Y_pred[:,1])\n",
    "    area = auc(recall,precision,reorder=True)\n",
    "    prc_knn='{:.4f}'.format(area)\n",
    "    fpr, tpr, threshold = roc_curve(Y_test, Y_pred[:,1])\n",
    "    knn_roc_auc = auc(fpr, tpr)\n",
    "    plt.figure()\n",
    "    plt.title('KNN ROC curve')\n",
    "    plt.plot(fpr, tpr, 'b', label = 'AUC = %0.4f' % knn_roc_auc)\n",
    "    plt.legend(loc = 'lower right')\n",
    "    plt.plot([0, 1], [0, 1],'r--')\n",
    "    plt.xlim([0, 1])\n",
    "    plt.ylim([0, 1])\n",
    "    plt.ylabel('True Positive Rate')\n",
    "    plt.xlabel('False Positive Rate')\n",
    "    f = open(cellline+'_knn_roc.png', 'wb')\n",
    "    plt.savefig(cellline+'_knn_roc.png')\n",
    "    f.close()\n",
    "    # plot Precision-Recall curve\n",
    "    plt.figure()\n",
    "    plt.clf()\n",
    "    plt.plot(recall, precision, label='Precision-Recall curve')\n",
    "    plt.xlabel('Recall')\n",
    "    plt.ylabel('Precision')\n",
    "    plt.ylim([0.0, 1.05])\n",
    "    plt.xlim([0.0, 1.0])\n",
    "    plt.title('KNN PRC={0:0.4f}'.format(area))\n",
    "    plt.legend(loc=\"lower left\")\n",
    "    f = open(cellline+'_knn_prc.png', 'wb')\n",
    "    plt.savefig(cellline+'_knn_prc.png')\n",
    "    f.close()\n",
    "    # calculate recalls\n",
    "    knn_fdr_5pct, knn_fdr_10pct, knn_fdr_25pct, knn_fdr_50pct=recall_at_fdr(Y_test,Y_pred[:,1])\n",
    "    return (prc_knn,knn_roc_auc,knn_fdr_5pct,knn_fdr_10pct,knn_fdr_25pct,knn_fdr_50pct)\n"
   ]
  },
  {
   "cell_type": "code",
   "execution_count": 8,
   "metadata": {},
   "outputs": [],
   "source": [
    "def decision_tree_train(X_train,Y_train,X_test,Y_test,cellline):\n",
    "    decision_tree = DecisionTreeClassifier()\n",
    "    decision_tree.fit(X_train, Y_train)\n",
    "    Y_pred = decision_tree.predict_proba(X_test)\n",
    "    precision, recall, thresholds = precision_recall_curve(Y_test, Y_pred[:,1])\n",
    "    area = auc(recall,precision)\n",
    "    prc_decision_tree='{:.4f}'.format(area)\n",
    "    fpr, tpr, threshold = roc_curve(Y_test, Y_pred[:,1])\n",
    "    dt_roc_auc = auc(fpr, tpr)\n",
    "    plt.figure()\n",
    "    plt.title('Decision Tree ROC curve')\n",
    "    plt.plot(fpr, tpr, 'b', label = 'AUC = %0.4f' % dt_roc_auc)\n",
    "    plt.legend(loc = 'lower right')\n",
    "    plt.plot([0, 1], [0, 1],'r--')\n",
    "    plt.xlim([0, 1])\n",
    "    plt.ylim([0, 1])\n",
    "    plt.ylabel('True Positive Rate')\n",
    "    plt.xlabel('False Positive Rate')\n",
    "    f = open(cellline+'_dt_roc.png', 'wb')\n",
    "    plt.savefig(cellline+'_dt_roc.png')\n",
    "    f.close()\n",
    "    # Plot Precision-Recall curve\n",
    "    plt.figure()\n",
    "    plt.clf()\n",
    "    plt.plot(recall, precision, label='Precision-Recall curve')\n",
    "    plt.xlabel('Recall')\n",
    "    plt.ylabel('Precision')\n",
    "    plt.ylim([0.0, 1.05])\n",
    "    plt.xlim([0.0, 1.0])\n",
    "    plt.title('Decision Tree PRC={0:0.4f}'.format(area))\n",
    "    plt.legend(loc=\"lower left\")\n",
    "    f = open(cellline+'_dt_prc.png', 'wb')\n",
    "    plt.savefig(cellline+'_dt_prc.png')\n",
    "    f.close()\n",
    "    # calculate recalls\n",
    "    dt_fdr_5pct, dt_fdr_10pct, dt_fdr_25pct, dt_fdr_50pct=recall_at_fdr(Y_test,Y_pred[:,1])\n",
    "    return (prc_decision_tree, dt_roc_auc, dt_fdr_5pct,dt_fdr_10pct,dt_fdr_25pct,dt_fdr_50pct)\n"
   ]
  },
  {
   "cell_type": "code",
   "execution_count": 9,
   "metadata": {},
   "outputs": [],
   "source": [
    "def random_forest_train(X_train,Y_train,X_test,Y_test,cellline):\n",
    "    # Random Forest\n",
    "    random_forest = RandomForestClassifier(n_estimators=100)\n",
    "    random_forest.fit(X_train, Y_train)\n",
    "    Y_pred = random_forest.predict_proba(X_test)\n",
    "    precision, recall, thresholds = precision_recall_curve(Y_test, Y_pred[:,1])\n",
    "    area = auc(recall,precision)\n",
    "    prc_random_forest='{:.4f}'.format(area)\n",
    "    fpr, tpr, threshold = roc_curve(Y_test, Y_pred[:,1])\n",
    "    rf_roc_auc = auc(fpr, tpr)\n",
    "    plt.figure()\n",
    "    plt.title('Random Forest ROC curve')\n",
    "    plt.plot(fpr, tpr, 'b', label = 'AUC = %0.4f' % rf_roc_auc)\n",
    "    plt.legend(loc = 'lower right')\n",
    "    plt.plot([0, 1], [0, 1],'r--')\n",
    "    plt.xlim([0, 1])\n",
    "    plt.ylim([0, 1])\n",
    "    plt.ylabel('True Positive Rate')\n",
    "    plt.xlabel('False Positive Rate')\n",
    "    f = open(cellline+'_rf_roc.png', 'wb')\n",
    "    plt.savefig(cellline+'_rf_roc.png')\n",
    "    f.close()\n",
    "    # Plot Precision-Recall curve\n",
    "    plt.figure()\n",
    "    plt.clf()\n",
    "    plt.plot(recall, precision, label='Precision-Recall curve')\n",
    "    plt.xlabel('Recall')\n",
    "    plt.ylabel('Precision')\n",
    "    plt.ylim([0.0, 1.05])\n",
    "    plt.xlim([0.0, 1.0])\n",
    "    plt.title('Random Forest PRC={0:0.4f}'.format(area))\n",
    "    plt.legend(loc=\"lower left\")\n",
    "    f = open(cellline+'_rf_prc.png', 'wb')\n",
    "    plt.savefig(cellline+'_rf_prc.png')\n",
    "    f.close()\n",
    "    # calculate recalls\n",
    "    rf_fdr_5pct, rf_fdr_10pct, rf_fdr_25pct, rf_fdr_50pct=recall_at_fdr(Y_test,Y_pred[:,1])\n",
    "    return (prc_random_forest, rf_roc_auc, rf_fdr_5pct,rf_fdr_10pct,rf_fdr_25pct,rf_fdr_50pct)"
   ]
  },
  {
   "cell_type": "code",
   "execution_count": 19,
   "metadata": {},
   "outputs": [],
   "source": [
    "def neural_network(X_train,Y_train,X_test,Y_test,cellline):\n",
    "    # preprocessing alldata\n",
    "    scaler = StandardScaler()\n",
    "    scaler.fit(X_train)\n",
    "    # Now apply the transformations to the data\n",
    "    X_train = scaler.transform(X_train)\n",
    "    X_test = scaler.transform(X_test)\n",
    "    mlp = MLPClassifier(hidden_layer_sizes=(35,100,35),max_iter=200)\n",
    "    mlp.fit(X_train,Y_train)\n",
    "    predictions=mlp.predict_proba(X_test)\n",
    "    precision, recall, thresholds = precision_recall_curve(Y_test, predictions[:,1])\n",
    "    area = auc(recall,precision)\n",
    "    prc_nn=' {:.4f}'.format(area)\n",
    "    fpr, tpr, threshold = roc_curve(Y_test, predictions[:,1])\n",
    "    nn_roc_auc = auc(fpr, tpr)\n",
    "    plt.figure()\n",
    "    plt.title('Neural Network ROC curve')\n",
    "    plt.plot(fpr, tpr, 'b', label = 'AUC = %0.4f' % nn_roc_auc)\n",
    "    plt.legend(loc = 'lower right')\n",
    "    plt.plot([0, 1], [0, 1],'r--')\n",
    "    plt.xlim([0, 1])\n",
    "    plt.ylim([0, 1])\n",
    "    plt.ylabel('True Positive Rate')\n",
    "    plt.xlabel('False Positive Rate')\n",
    "    f = open(cellline+'_nn_roc.png', 'wb')\n",
    "    plt.savefig(cellline+'_nn_roc.png')\n",
    "    f.close()\n",
    "    # Plot Precision-Recall curve\n",
    "    plt.figure()\n",
    "    plt.clf()\n",
    "    plt.plot(recall, precision, label='Precision-Recall curve')\n",
    "    plt.xlabel('Recall')\n",
    "    plt.ylabel('Precision')\n",
    "    plt.ylim([0.0, 1.05])\n",
    "    plt.xlim([0.0, 1.0])\n",
    "    plt.title('Neural Network PRC={0:0.4f}'.format(area))\n",
    "    plt.legend(loc=\"lower left\")\n",
    "    f = open(cellline+'_nn_prc.png', 'wb')\n",
    "    plt.savefig(cellline+'_nn_prc.png')\n",
    "    f.close()\n",
    "    # calculate recalls\n",
    "    nn_fdr_5pct, nn_fdr_10pct, nn_fdr_25pct, nn_fdr_50pct=recall_at_fdr(Y_test,predictions[:,1])\n",
    "    return (prc_nn,nn_roc_auc,nn_fdr_5pct,nn_fdr_10pct,nn_fdr_25pct,nn_fdr_50pct)"
   ]
  },
  {
   "cell_type": "code",
   "execution_count": 40,
   "metadata": {},
   "outputs": [],
   "source": [
    "# read in the data\n",
    "train=pd.read_csv('/Users/sunnysun/Desktop/K562_train_1to10_2.txt',sep='\\t',header=0)\n",
    "test=pd.read_csv('/Users/sunnysun/Desktop/dream_test/combine/K562_new_combined_features_071_noA_rmna.txt',sep='\\t',header=0)\n",
    "cellline='K562'\n",
    "col=pd.read_csv('/Users/sunnysun/Desktop/dream_test/K562_new_combined_features_000.txt',sep='\\t',header=0)\n",
    "train.columns=col.columns\n",
    "test.columns=col.columns\n",
    "train=train.drop(\"chr\",axis=1)\n",
    "train=train.drop(\"start\",axis=1)\n",
    "train=train.drop(\"end\",axis=1)\n",
    "test=test.drop(\"chr\",axis=1)\n",
    "test=test.drop(\"start\",axis=1)\n",
    "test=test.drop(\"end\",axis=1)\n",
    "# convert the categorical data to numeric\n",
    "s = pd.Series(train[cellline])\n",
    "s=s.replace({'B': 1})\n",
    "s=s.replace({'U': 0})\n",
    "train[cellline]=s\n",
    "s = pd.Series(test[cellline])\n",
    "s=s.replace({'B': 1})\n",
    "s=s.replace({'U': 0})\n",
    "test[cellline]=s\n",
    "X_train = train.drop(cellline, axis=1)\n",
    "Y_train = train[cellline]\n",
    "X_test  = test.drop(cellline, axis=1)\n",
    "Y_test = test[cellline]"
   ]
  },
  {
   "cell_type": "code",
   "execution_count": 36,
   "metadata": {
    "scrolled": false
   },
   "outputs": [
    {
     "ename": "ValueError",
     "evalue": "unknown format is not supported",
     "output_type": "error",
     "traceback": [
      "\u001b[0;31m---------------------------------------------------------------------------\u001b[0m",
      "\u001b[0;31mValueError\u001b[0m                                Traceback (most recent call last)",
      "\u001b[0;32m<ipython-input-36-d381b3390f8b>\u001b[0m in \u001b[0;36m<module>\u001b[0;34m()\u001b[0m\n\u001b[1;32m      1\u001b[0m \u001b[0;31m# running the functions\u001b[0m\u001b[0;34m\u001b[0m\u001b[0;34m\u001b[0m\u001b[0m\n\u001b[0;32m----> 2\u001b[0;31m \u001b[0;34m(\u001b[0m\u001b[0mprc_log\u001b[0m\u001b[0;34m,\u001b[0m\u001b[0mlog_roc_auc\u001b[0m\u001b[0;34m,\u001b[0m\u001b[0mlog_fdr_5pct\u001b[0m\u001b[0;34m,\u001b[0m\u001b[0mlog_fdr_10pct\u001b[0m\u001b[0;34m,\u001b[0m\u001b[0mlog_fdr_25pct\u001b[0m\u001b[0;34m,\u001b[0m\u001b[0mlog_fdr_50pct\u001b[0m\u001b[0;34m)\u001b[0m\u001b[0;34m=\u001b[0m\u001b[0mlog_reg\u001b[0m\u001b[0;34m(\u001b[0m\u001b[0mX_train\u001b[0m\u001b[0;34m,\u001b[0m\u001b[0mY_train\u001b[0m\u001b[0;34m,\u001b[0m\u001b[0mX_test\u001b[0m\u001b[0;34m,\u001b[0m\u001b[0mY_test\u001b[0m\u001b[0;34m,\u001b[0m\u001b[0mcellline\u001b[0m\u001b[0;34m)\u001b[0m\u001b[0;34m\u001b[0m\u001b[0m\n\u001b[0m",
      "\u001b[0;32m<ipython-input-4-df4bdc9f21f0>\u001b[0m in \u001b[0;36mlog_reg\u001b[0;34m(X_train, Y_train, X_test, Y_test, cellline)\u001b[0m\n\u001b[1;32m      5\u001b[0m     \u001b[0mY_pred\u001b[0m \u001b[0;34m=\u001b[0m \u001b[0mlogreg\u001b[0m\u001b[0;34m.\u001b[0m\u001b[0mpredict_proba\u001b[0m\u001b[0;34m(\u001b[0m\u001b[0mX_test\u001b[0m\u001b[0;34m)\u001b[0m\u001b[0;34m\u001b[0m\u001b[0m\n\u001b[1;32m      6\u001b[0m     \u001b[0;31m# calculating auc\u001b[0m\u001b[0;34m\u001b[0m\u001b[0;34m\u001b[0m\u001b[0m\n\u001b[0;32m----> 7\u001b[0;31m     \u001b[0mprecision\u001b[0m\u001b[0;34m,\u001b[0m \u001b[0mrecall\u001b[0m\u001b[0;34m,\u001b[0m \u001b[0mthresholds\u001b[0m \u001b[0;34m=\u001b[0m \u001b[0mprecision_recall_curve\u001b[0m\u001b[0;34m(\u001b[0m\u001b[0mY_test\u001b[0m\u001b[0;34m,\u001b[0m\u001b[0mY_pred\u001b[0m\u001b[0;34m[\u001b[0m\u001b[0;34m:\u001b[0m\u001b[0;34m,\u001b[0m\u001b[0;36m1\u001b[0m\u001b[0;34m]\u001b[0m\u001b[0;34m)\u001b[0m\u001b[0;34m\u001b[0m\u001b[0m\n\u001b[0m\u001b[1;32m      8\u001b[0m     \u001b[0marea\u001b[0m \u001b[0;34m=\u001b[0m \u001b[0mauc\u001b[0m\u001b[0;34m(\u001b[0m\u001b[0mrecall\u001b[0m\u001b[0;34m,\u001b[0m\u001b[0mprecision\u001b[0m\u001b[0;34m,\u001b[0m\u001b[0mreorder\u001b[0m\u001b[0;34m=\u001b[0m\u001b[0;32mTrue\u001b[0m\u001b[0;34m)\u001b[0m\u001b[0;34m\u001b[0m\u001b[0m\n\u001b[1;32m      9\u001b[0m     \u001b[0mprc_log\u001b[0m\u001b[0;34m=\u001b[0m\u001b[0;34m'{:.4f}'\u001b[0m\u001b[0;34m.\u001b[0m\u001b[0mformat\u001b[0m\u001b[0;34m(\u001b[0m\u001b[0marea\u001b[0m\u001b[0;34m)\u001b[0m\u001b[0;34m\u001b[0m\u001b[0m\n",
      "\u001b[0;32m/Library/Frameworks/Python.framework/Versions/3.6/lib/python3.6/site-packages/sklearn/metrics/ranking.py\u001b[0m in \u001b[0;36mprecision_recall_curve\u001b[0;34m(y_true, probas_pred, pos_label, sample_weight)\u001b[0m\n\u001b[1;32m    439\u001b[0m     fps, tps, thresholds = _binary_clf_curve(y_true, probas_pred,\n\u001b[1;32m    440\u001b[0m                                              \u001b[0mpos_label\u001b[0m\u001b[0;34m=\u001b[0m\u001b[0mpos_label\u001b[0m\u001b[0;34m,\u001b[0m\u001b[0;34m\u001b[0m\u001b[0m\n\u001b[0;32m--> 441\u001b[0;31m                                              sample_weight=sample_weight)\n\u001b[0m\u001b[1;32m    442\u001b[0m \u001b[0;34m\u001b[0m\u001b[0m\n\u001b[1;32m    443\u001b[0m     \u001b[0mprecision\u001b[0m \u001b[0;34m=\u001b[0m \u001b[0mtps\u001b[0m \u001b[0;34m/\u001b[0m \u001b[0;34m(\u001b[0m\u001b[0mtps\u001b[0m \u001b[0;34m+\u001b[0m \u001b[0mfps\u001b[0m\u001b[0;34m)\u001b[0m\u001b[0;34m\u001b[0m\u001b[0m\n",
      "\u001b[0;32m/Library/Frameworks/Python.framework/Versions/3.6/lib/python3.6/site-packages/sklearn/metrics/ranking.py\u001b[0m in \u001b[0;36m_binary_clf_curve\u001b[0;34m(y_true, y_score, pos_label, sample_weight)\u001b[0m\n\u001b[1;32m    316\u001b[0m     if not (y_type == \"binary\" or\n\u001b[1;32m    317\u001b[0m             (y_type == \"multiclass\" and pos_label is not None)):\n\u001b[0;32m--> 318\u001b[0;31m         \u001b[0;32mraise\u001b[0m \u001b[0mValueError\u001b[0m\u001b[0;34m(\u001b[0m\u001b[0;34m\"{0} format is not supported\"\u001b[0m\u001b[0;34m.\u001b[0m\u001b[0mformat\u001b[0m\u001b[0;34m(\u001b[0m\u001b[0my_type\u001b[0m\u001b[0;34m)\u001b[0m\u001b[0;34m)\u001b[0m\u001b[0;34m\u001b[0m\u001b[0m\n\u001b[0m\u001b[1;32m    319\u001b[0m \u001b[0;34m\u001b[0m\u001b[0m\n\u001b[1;32m    320\u001b[0m     \u001b[0mcheck_consistent_length\u001b[0m\u001b[0;34m(\u001b[0m\u001b[0my_true\u001b[0m\u001b[0;34m,\u001b[0m \u001b[0my_score\u001b[0m\u001b[0;34m,\u001b[0m \u001b[0msample_weight\u001b[0m\u001b[0;34m)\u001b[0m\u001b[0;34m\u001b[0m\u001b[0m\n",
      "\u001b[0;31mValueError\u001b[0m: unknown format is not supported"
     ]
    }
   ],
   "source": [
    "# running the functions\n",
    "(prc_log,log_roc_auc,log_fdr_5pct,log_fdr_10pct,log_fdr_25pct,log_fdr_50pct)=log_reg(X_train,Y_train,X_test,Y_test,cellline)"
   ]
  },
  {
   "cell_type": "code",
   "execution_count": 30,
   "metadata": {},
   "outputs": [
    {
     "data": {
      "image/png": "[encoded data removed]",
      "text/plain": [
       "<Figure size 432x288 with 1 Axes>"
      ]
     },
     "metadata": {},
     "output_type": "display_data"
    },
    {
     "data": {
      "image/png": "[encoded data removed]",
      "text/plain": [
       "<Figure size 432x288 with 1 Axes>"
      ]
     },
     "metadata": {},
     "output_type": "display_data"
    }
   ],
   "source": [
    "scale=10\n",
    "(prc_xgboost,xg_roc_auc,xg_fdr_5pct,xg_fdr_10pct,xg_fdr_25pct,xg_fdr_50pct)=xgboost_train(X_train,Y_train,X_test,Y_test,cellline,scale)"
   ]
  },
  {
   "cell_type": "code",
   "execution_count": null,
   "metadata": {
    "scrolled": false
   },
   "outputs": [],
   "source": [
    "(prc_knn,knn_roc_auc,knn_fdr_5pct,knn_fdr_10pct,knn_fdr_25pct,knn_fdr_50pct)=knn_train(X_train,Y_train,X_test,Y_test,cellline)"
   ]
  },
  {
   "cell_type": "code",
   "execution_count": 39,
   "metadata": {
    "scrolled": false
   },
   "outputs": [
    {
     "ename": "ValueError",
     "evalue": "unknown format is not supported",
     "output_type": "error",
     "traceback": [
      "\u001b[0;31m---------------------------------------------------------------------------\u001b[0m",
      "\u001b[0;31mValueError\u001b[0m                                Traceback (most recent call last)",
      "\u001b[0;32m<ipython-input-39-97f657d6e222>\u001b[0m in \u001b[0;36m<module>\u001b[0;34m()\u001b[0m\n\u001b[0;32m----> 1\u001b[0;31m \u001b[0;34m(\u001b[0m\u001b[0mprc_gaussian\u001b[0m\u001b[0;34m,\u001b[0m\u001b[0mgau_roc_auc\u001b[0m\u001b[0;34m,\u001b[0m\u001b[0mgau_fdr_5pct\u001b[0m\u001b[0;34m,\u001b[0m\u001b[0mgau_fdr_10pct\u001b[0m\u001b[0;34m,\u001b[0m\u001b[0mgau_fdr_10pct\u001b[0m\u001b[0;34m,\u001b[0m\u001b[0mgau_fdr_25pct\u001b[0m\u001b[0;34m,\u001b[0m\u001b[0mgau_fdr_50pct\u001b[0m\u001b[0;34m)\u001b[0m\u001b[0;34m=\u001b[0m\u001b[0mgau_train\u001b[0m\u001b[0;34m(\u001b[0m\u001b[0mX_train\u001b[0m\u001b[0;34m,\u001b[0m\u001b[0mY_train\u001b[0m\u001b[0;34m,\u001b[0m\u001b[0mX_test\u001b[0m\u001b[0;34m,\u001b[0m\u001b[0mY_test\u001b[0m\u001b[0;34m,\u001b[0m\u001b[0mcellline\u001b[0m\u001b[0;34m)\u001b[0m\u001b[0;34m\u001b[0m\u001b[0m\n\u001b[0m",
      "\u001b[0;32m<ipython-input-6-f4612d4a4d59>\u001b[0m in \u001b[0;36mgau_train\u001b[0;34m(X_train, Y_train, X_test, Y_test, cellline)\u001b[0m\n\u001b[1;32m      4\u001b[0m     \u001b[0mY_pred\u001b[0m \u001b[0;34m=\u001b[0m \u001b[0mgaussian\u001b[0m\u001b[0;34m.\u001b[0m\u001b[0mpredict_proba\u001b[0m\u001b[0;34m(\u001b[0m\u001b[0mX_test\u001b[0m\u001b[0;34m)\u001b[0m\u001b[0;34m\u001b[0m\u001b[0m\n\u001b[1;32m      5\u001b[0m     \u001b[0;31m# calculating auc\u001b[0m\u001b[0;34m\u001b[0m\u001b[0;34m\u001b[0m\u001b[0m\n\u001b[0;32m----> 6\u001b[0;31m     \u001b[0mprecision\u001b[0m\u001b[0;34m,\u001b[0m \u001b[0mrecall\u001b[0m\u001b[0;34m,\u001b[0m \u001b[0mthresholds\u001b[0m \u001b[0;34m=\u001b[0m \u001b[0mprecision_recall_curve\u001b[0m\u001b[0;34m(\u001b[0m\u001b[0mY_test\u001b[0m\u001b[0;34m,\u001b[0m \u001b[0mY_pred\u001b[0m\u001b[0;34m[\u001b[0m\u001b[0;34m:\u001b[0m\u001b[0;34m,\u001b[0m\u001b[0;36m1\u001b[0m\u001b[0;34m]\u001b[0m\u001b[0;34m)\u001b[0m\u001b[0;34m\u001b[0m\u001b[0m\n\u001b[0m\u001b[1;32m      7\u001b[0m     \u001b[0marea\u001b[0m \u001b[0;34m=\u001b[0m \u001b[0mauc\u001b[0m\u001b[0;34m(\u001b[0m\u001b[0mrecall\u001b[0m\u001b[0;34m,\u001b[0m\u001b[0mprecision\u001b[0m\u001b[0;34m)\u001b[0m\u001b[0;34m\u001b[0m\u001b[0m\n\u001b[1;32m      8\u001b[0m     \u001b[0mprc_gaussian\u001b[0m\u001b[0;34m=\u001b[0m\u001b[0;34m'{:.4f}'\u001b[0m\u001b[0;34m.\u001b[0m\u001b[0mformat\u001b[0m\u001b[0;34m(\u001b[0m\u001b[0marea\u001b[0m\u001b[0;34m)\u001b[0m\u001b[0;34m\u001b[0m\u001b[0m\n",
      "\u001b[0;32m/Library/Frameworks/Python.framework/Versions/3.6/lib/python3.6/site-packages/sklearn/metrics/ranking.py\u001b[0m in \u001b[0;36mprecision_recall_curve\u001b[0;34m(y_true, probas_pred, pos_label, sample_weight)\u001b[0m\n\u001b[1;32m    439\u001b[0m     fps, tps, thresholds = _binary_clf_curve(y_true, probas_pred,\n\u001b[1;32m    440\u001b[0m                                              \u001b[0mpos_label\u001b[0m\u001b[0;34m=\u001b[0m\u001b[0mpos_label\u001b[0m\u001b[0;34m,\u001b[0m\u001b[0;34m\u001b[0m\u001b[0m\n\u001b[0;32m--> 441\u001b[0;31m                                              sample_weight=sample_weight)\n\u001b[0m\u001b[1;32m    442\u001b[0m \u001b[0;34m\u001b[0m\u001b[0m\n\u001b[1;32m    443\u001b[0m     \u001b[0mprecision\u001b[0m \u001b[0;34m=\u001b[0m \u001b[0mtps\u001b[0m \u001b[0;34m/\u001b[0m \u001b[0;34m(\u001b[0m\u001b[0mtps\u001b[0m \u001b[0;34m+\u001b[0m \u001b[0mfps\u001b[0m\u001b[0;34m)\u001b[0m\u001b[0;34m\u001b[0m\u001b[0m\n",
      "\u001b[0;32m/Library/Frameworks/Python.framework/Versions/3.6/lib/python3.6/site-packages/sklearn/metrics/ranking.py\u001b[0m in \u001b[0;36m_binary_clf_curve\u001b[0;34m(y_true, y_score, pos_label, sample_weight)\u001b[0m\n\u001b[1;32m    316\u001b[0m     if not (y_type == \"binary\" or\n\u001b[1;32m    317\u001b[0m             (y_type == \"multiclass\" and pos_label is not None)):\n\u001b[0;32m--> 318\u001b[0;31m         \u001b[0;32mraise\u001b[0m \u001b[0mValueError\u001b[0m\u001b[0;34m(\u001b[0m\u001b[0;34m\"{0} format is not supported\"\u001b[0m\u001b[0;34m.\u001b[0m\u001b[0mformat\u001b[0m\u001b[0;34m(\u001b[0m\u001b[0my_type\u001b[0m\u001b[0;34m)\u001b[0m\u001b[0;34m)\u001b[0m\u001b[0;34m\u001b[0m\u001b[0m\n\u001b[0m\u001b[1;32m    319\u001b[0m \u001b[0;34m\u001b[0m\u001b[0m\n\u001b[1;32m    320\u001b[0m     \u001b[0mcheck_consistent_length\u001b[0m\u001b[0;34m(\u001b[0m\u001b[0my_true\u001b[0m\u001b[0;34m,\u001b[0m \u001b[0my_score\u001b[0m\u001b[0;34m,\u001b[0m \u001b[0msample_weight\u001b[0m\u001b[0;34m)\u001b[0m\u001b[0;34m\u001b[0m\u001b[0m\n",
      "\u001b[0;31mValueError\u001b[0m: unknown format is not supported"
     ]
    }
   ],
   "source": [
    "(prc_gaussian,gau_roc_auc,gau_fdr_5pct,gau_fdr_10pct,gau_fdr_10pct,gau_fdr_25pct,gau_fdr_50pct)=gau_train(X_train,Y_train,X_test,Y_test,cellline)"
   ]
  },
  {
   "cell_type": "code",
   "execution_count": null,
   "metadata": {
    "scrolled": true
   },
   "outputs": [],
   "source": [
    "(prc_decision_tree, dt_roc_auc, dt_fdr_5pct,dt_fdr_10pct,dt_fdr_25pct,dt_fdr_50pct)=decision_tree_train(X_train,Y_train,X_test,Y_test,cellline)"
   ]
  },
  {
   "cell_type": "code",
   "execution_count": null,
   "metadata": {
    "scrolled": true
   },
   "outputs": [],
   "source": [
    "(prc_random_forest, rf_roc_auc, rf_fdr_5pct,rf_fdr_10pct,rf_fdr_25pct,rf_fdr_50pct)=random_forest_train(X_train,Y_train,X_test,Y_test,cellline)"
   ]
  },
  {
   "cell_type": "code",
   "execution_count": null,
   "metadata": {
    "scrolled": true
   },
   "outputs": [],
   "source": [
    "(prc_nn,nn_roc_auc,nn_fdr_5pct,nn_fdr_10pct,nn_fdr_25pct,nn_fdr_50pct)=neural_network(X_train,Y_train,X_test,Y_test,cellline)"
   ]
  },
  {
   "cell_type": "code",
   "execution_count": null,
   "metadata": {},
   "outputs": [],
   "source": [
    "models = pd.DataFrame({\n",
    "    'Model': ['KNN', 'Logistic Regression', \n",
    "              'Random Forest', 'Naive Bayes','Decision Tree','Neural Network','XGboost'],\n",
    "    'auROC': [knn_roc_auc, log_roc_auc, rf_roc_auc, gau_roc_auc, dt_roc_auc, nn_roc_auc, xg_roc_auc],\n",
    "    'auPRC': [prc_knn,prc_log,prc_random_forest,prc_gaussian,prc_decision_tree, prc_nn, prc_xgboost],\n",
    "    'Recall at 5%FDR':[knn_fdr_5pct,log_fdr_5pct,rf_fdr_5pct,gau_fdr_5pct,dt_fdr_5pct,nn_fdr_5pct,xg_fdr_5pct],\n",
    "    'Recall at 10%FDR':[knn_fdr_10pct,log_fdr_10pct,rf_fdr_10pct,gau_fdr_10pct,dt_fdr_10pct,nn_fdr_10pct,xg_fdr_10pct],\n",
    "    'Recall at 25%FDR':[knn_fdr_25pct,log_fdr_25pct,rf_fdr_25pct,gau_fdr_25pct,dt_fdr_25pct,nn_fdr_25pct,xg_fdr_25pct],\n",
    "    'Recall at 50%FDR':[knn_fdr_50pct,log_fdr_50pct,rf_fdr_50pct,gau_fdr_50pct,dt_fdr_50pct,nn_fdr_50pct,xg_fdr_50pct]\n",
    "                        })\n",
    "models=models[['Model','auROC','auPRC','Recall at 5%FDR','Recall at 10%FDR','Recall at 25%FDR','Recall at 50%FDR']]\n",
    "models.sort_values(by='auROC', ascending=False)"
   ]
  },
  {
   "cell_type": "code",
   "execution_count": null,
   "metadata": {},
   "outputs": [],
   "source": []
  }
 ],
 "metadata": {
  "kernelspec": {
   "display_name": "Python 3",
   "language": "python",
   "name": "python3"
  },
  "language_info": {
   "codemirror_mode": {
    "name": "ipython",
    "version": 3
   },
   "file_extension": ".py",
   "mimetype": "text/x-python",
   "name": "python",
   "nbconvert_exporter": "python",
   "pygments_lexer": "ipython3",
   "version": "3.6.5"
  }
 },
 "nbformat": 4,
 "nbformat_minor": 2
}
